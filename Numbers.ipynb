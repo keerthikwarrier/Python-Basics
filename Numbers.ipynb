{
 "cells": [
  {
   "cell_type": "code",
   "execution_count": 1,
   "id": "afd5595a-e8d5-4704-a0ed-de9e9f107ad4",
   "metadata": {},
   "outputs": [
    {
     "data": {
      "text/plain": [
       "int"
      ]
     },
     "execution_count": 1,
     "metadata": {},
     "output_type": "execute_result"
    }
   ],
   "source": [
    "num=5\n",
    "type(num)"
   ]
  },
  {
   "cell_type": "code",
   "execution_count": 2,
   "id": "d20a36da-b399-47c7-8179-bcfa46f8cf42",
   "metadata": {},
   "outputs": [
    {
     "data": {
      "text/plain": [
       "int"
      ]
     },
     "execution_count": 2,
     "metadata": {},
     "output_type": "execute_result"
    }
   ],
   "source": [
    "num=45435453\n",
    "type(num)"
   ]
  },
  {
   "cell_type": "code",
   "execution_count": 3,
   "id": "75192509-5821-495d-9fdc-bde04faa980a",
   "metadata": {},
   "outputs": [
    {
     "data": {
      "text/plain": [
       "float"
      ]
     },
     "execution_count": 3,
     "metadata": {},
     "output_type": "execute_result"
    }
   ],
   "source": [
    "num=556563.4545\n",
    "type(num)"
   ]
  },
  {
   "cell_type": "code",
   "execution_count": 4,
   "id": "3251974f-0290-4572-8e11-61fb4feee3a7",
   "metadata": {},
   "outputs": [
    {
     "data": {
      "text/plain": [
       "complex"
      ]
     },
     "execution_count": 4,
     "metadata": {},
     "output_type": "execute_result"
    }
   ],
   "source": [
    "num=4+5j\n",
    "type(num)"
   ]
  },
  {
   "cell_type": "code",
   "execution_count": 5,
   "id": "48528a09-0773-4c74-8f8d-5300620cdeb1",
   "metadata": {},
   "outputs": [
    {
     "data": {
      "text/plain": [
       "4.0"
      ]
     },
     "execution_count": 5,
     "metadata": {},
     "output_type": "execute_result"
    }
   ],
   "source": [
    "num.real"
   ]
  },
  {
   "cell_type": "code",
   "execution_count": 6,
   "id": "988002f3-1923-4418-a97e-9a17a1e8410a",
   "metadata": {},
   "outputs": [
    {
     "data": {
      "text/plain": [
       "5.0"
      ]
     },
     "execution_count": 6,
     "metadata": {},
     "output_type": "execute_result"
    }
   ],
   "source": [
    "num.imag"
   ]
  },
  {
   "cell_type": "code",
   "execution_count": 7,
   "id": "3cb9862a-896c-432e-af22-31bfaf9efc94",
   "metadata": {},
   "outputs": [
    {
     "data": {
      "text/plain": [
       "float"
      ]
     },
     "execution_count": 7,
     "metadata": {},
     "output_type": "execute_result"
    }
   ],
   "source": [
    "num=-35435345.3434\n",
    "type(num)"
   ]
  },
  {
   "cell_type": "code",
   "execution_count": 8,
   "id": "41597b04-73d9-4738-af1d-f6e18ef69236",
   "metadata": {},
   "outputs": [
    {
     "data": {
      "text/plain": [
       "-35435345.3434"
      ]
     },
     "execution_count": 8,
     "metadata": {},
     "output_type": "execute_result"
    }
   ],
   "source": [
    "num"
   ]
  },
  {
   "cell_type": "code",
   "execution_count": 9,
   "id": "97d4eecd-0e78-4091-bc2a-12fbd7b51381",
   "metadata": {},
   "outputs": [
    {
     "name": "stdout",
     "output_type": "stream",
     "text": [
      "44\n"
     ]
    }
   ],
   "source": [
    "print(10+34)"
   ]
  },
  {
   "cell_type": "code",
   "execution_count": 10,
   "id": "61ca0538-48b0-4eec-9b5d-bc6b399b4fbe",
   "metadata": {},
   "outputs": [
    {
     "name": "stdout",
     "output_type": "stream",
     "text": [
      "-13\n"
     ]
    }
   ],
   "source": [
    "print(10-23)"
   ]
  },
  {
   "cell_type": "code",
   "execution_count": 11,
   "id": "2ecba9ff-f0c7-496e-8b27-c23fc69ff277",
   "metadata": {},
   "outputs": [
    {
     "name": "stdout",
     "output_type": "stream",
     "text": [
      "230\n"
     ]
    }
   ],
   "source": [
    "print(10*23)"
   ]
  },
  {
   "cell_type": "code",
   "execution_count": 12,
   "id": "f50a3e8a-d63a-4b62-b7bc-3bf75c099e3d",
   "metadata": {},
   "outputs": [
    {
     "name": "stdout",
     "output_type": "stream",
     "text": [
      "0.43478260869565216\n"
     ]
    }
   ],
   "source": [
    "print(10/23)"
   ]
  },
  {
   "cell_type": "code",
   "execution_count": 13,
   "id": "872b2413-b148-4bec-8680-f26e76473725",
   "metadata": {},
   "outputs": [
    {
     "name": "stdout",
     "output_type": "stream",
     "text": [
      "10\n"
     ]
    }
   ],
   "source": [
    "print(10%23)"
   ]
  },
  {
   "cell_type": "code",
   "execution_count": null,
   "id": "a059e2be-43e2-43cf-b193-998ca108d9bc",
   "metadata": {},
   "outputs": [],
   "source": [
    "print(10**23)"
   ]
  },
  {
   "cell_type": "raw",
   "id": "4c14134b-24b1-4390-b4a1-f5965cc6a4a7",
   "metadata": {},
   "source": [
    "Conversions"
   ]
  },
  {
   "cell_type": "code",
   "execution_count": 16,
   "id": "b0cd3bdb-4893-424d-826a-c3d48208a52b",
   "metadata": {},
   "outputs": [
    {
     "data": {
      "text/plain": [
       "str"
      ]
     },
     "execution_count": 16,
     "metadata": {},
     "output_type": "execute_result"
    }
   ],
   "source": [
    "x=\"192\"\n",
    "type(x)"
   ]
  },
  {
   "cell_type": "code",
   "execution_count": 17,
   "id": "4af1fee2-743c-4be5-b778-9ef72db2cc3f",
   "metadata": {},
   "outputs": [
    {
     "data": {
      "text/plain": [
       "192"
      ]
     },
     "execution_count": 17,
     "metadata": {},
     "output_type": "execute_result"
    }
   ],
   "source": [
    "int(x)"
   ]
  },
  {
   "cell_type": "code",
   "execution_count": 18,
   "id": "f55ba1e9-4bd1-4495-a578-ded7c5c1cdd9",
   "metadata": {},
   "outputs": [],
   "source": [
    "x=int(x)"
   ]
  },
  {
   "cell_type": "code",
   "execution_count": 19,
   "id": "9023ba59-5559-4516-b3a1-0188d1344423",
   "metadata": {},
   "outputs": [
    {
     "data": {
      "text/plain": [
       "int"
      ]
     },
     "execution_count": 19,
     "metadata": {},
     "output_type": "execute_result"
    }
   ],
   "source": [
    "type(x)"
   ]
  },
  {
   "cell_type": "code",
   "execution_count": 20,
   "id": "a167b31b-94ff-49e5-a488-3dc5f57b8056",
   "metadata": {},
   "outputs": [],
   "source": [
    "x=float(x)"
   ]
  },
  {
   "cell_type": "code",
   "execution_count": 21,
   "id": "911ddd90-9625-425e-b6e2-88efc98fe0b1",
   "metadata": {},
   "outputs": [
    {
     "data": {
      "text/plain": [
       "192.0"
      ]
     },
     "execution_count": 21,
     "metadata": {},
     "output_type": "execute_result"
    }
   ],
   "source": [
    "x"
   ]
  },
  {
   "cell_type": "code",
   "execution_count": 22,
   "id": "b1c92271-b5bc-4055-9e9f-96b6c1d19839",
   "metadata": {},
   "outputs": [],
   "source": [
    "x=complex(x)"
   ]
  },
  {
   "cell_type": "code",
   "execution_count": 23,
   "id": "9e591a7a-dcba-421c-94e5-2ea5f0c878b1",
   "metadata": {},
   "outputs": [
    {
     "name": "stdout",
     "output_type": "stream",
     "text": [
      "(192+0j)\n"
     ]
    }
   ],
   "source": [
    "print(x)"
   ]
  },
  {
   "cell_type": "code",
   "execution_count": 24,
   "id": "c4a34db5-78ce-455d-9e99-725c89123e4d",
   "metadata": {},
   "outputs": [
    {
     "name": "stdout",
     "output_type": "stream",
     "text": [
      "(3+5j)\n"
     ]
    }
   ],
   "source": [
    "x=complex(3,5)\n",
    "print(x)"
   ]
  },
  {
   "cell_type": "raw",
   "id": "d7a43d5f-8a8d-447d-98a0-2ed9cc4132d8",
   "metadata": {},
   "source": [
    "In-built Functions"
   ]
  },
  {
   "cell_type": "code",
   "execution_count": 1,
   "id": "96350acf-f0a5-47b1-86a8-0362a8336499",
   "metadata": {},
   "outputs": [],
   "source": [
    "x=-2.3"
   ]
  },
  {
   "cell_type": "code",
   "execution_count": 2,
   "id": "657021d0-9070-4949-9306-2f3eee83e806",
   "metadata": {},
   "outputs": [
    {
     "name": "stdout",
     "output_type": "stream",
     "text": [
      "2.3\n"
     ]
    }
   ],
   "source": [
    "print(abs(x))"
   ]
  },
  {
   "cell_type": "code",
   "execution_count": 4,
   "id": "6bdd3239-d397-49a3-b08a-0f27d23ec7c0",
   "metadata": {},
   "outputs": [
    {
     "name": "stdout",
     "output_type": "stream",
     "text": [
      "0.10025884372280375\n"
     ]
    }
   ],
   "source": [
    "import math\n",
    "x=-2.3\n",
    "print(math.exp(x))"
   ]
  },
  {
   "cell_type": "code",
   "execution_count": 5,
   "id": "dbd61133-8fb2-40d3-b88f-9cf01a54bece",
   "metadata": {},
   "outputs": [
    {
     "data": {
      "text/plain": [
       "2.718281828459045"
      ]
     },
     "execution_count": 5,
     "metadata": {},
     "output_type": "execute_result"
    }
   ],
   "source": [
    "math.e"
   ]
  },
  {
   "cell_type": "code",
   "execution_count": 6,
   "id": "781af443-e4d1-4697-aa67-f46e87fa92cf",
   "metadata": {},
   "outputs": [
    {
     "data": {
      "text/plain": [
       "3.141592653589793"
      ]
     },
     "execution_count": 6,
     "metadata": {},
     "output_type": "execute_result"
    }
   ],
   "source": [
    "math.pi"
   ]
  },
  {
   "cell_type": "code",
   "execution_count": 11,
   "id": "0305b64a-0300-45cb-bf37-e12aabb10420",
   "metadata": {},
   "outputs": [
    {
     "name": "stdout",
     "output_type": "stream",
     "text": [
      "1.51657508881031\n"
     ]
    }
   ],
   "source": [
    "import math\n",
    "x=2.3\n",
    "print(math.sqrt(x))"
   ]
  },
  {
   "cell_type": "code",
   "execution_count": 12,
   "id": "0b6a081e-3917-43dc-89e2-c55622845fe5",
   "metadata": {},
   "outputs": [
    {
     "data": {
      "text/plain": [
       "5"
      ]
     },
     "execution_count": 12,
     "metadata": {},
     "output_type": "execute_result"
    }
   ],
   "source": [
    "max(2,3,5,2,5)"
   ]
  },
  {
   "cell_type": "code",
   "execution_count": 13,
   "id": "f8585701-0a56-495b-83d2-9ffa4ff31895",
   "metadata": {},
   "outputs": [
    {
     "data": {
      "text/plain": [
       "3"
      ]
     },
     "execution_count": 13,
     "metadata": {},
     "output_type": "execute_result"
    }
   ],
   "source": [
    "min(4,5,3,6,7)"
   ]
  },
  {
   "cell_type": "raw",
   "id": "2c4af1e1-0d83-4ff5-9cb0-1e108dd25beb",
   "metadata": {},
   "source": [
    "Prime number or not"
   ]
  },
  {
   "cell_type": "code",
   "execution_count": 14,
   "id": "4d032daf-6a6d-4be3-9411-9e1ff2ff4791",
   "metadata": {},
   "outputs": [
    {
     "name": "stdin",
     "output_type": "stream",
     "text": [
      "Enter the number 23\n"
     ]
    }
   ],
   "source": [
    "n=input(\"Enter the number\")"
   ]
  },
  {
   "cell_type": "code",
   "execution_count": 15,
   "id": "d0907817-66f3-4341-af81-99611f6b976b",
   "metadata": {},
   "outputs": [],
   "source": [
    "n=int(n)"
   ]
  },
  {
   "cell_type": "code",
   "execution_count": 22,
   "id": "7a54062e-2b3f-4d13-815a-71df6ae46517",
   "metadata": {},
   "outputs": [
    {
     "name": "stdin",
     "output_type": "stream",
     "text": [
      "Enter the number 23\n"
     ]
    },
    {
     "name": "stdout",
     "output_type": "stream",
     "text": [
      "23 is a prime number\n"
     ]
    }
   ],
   "source": [
    "n=input(\"Enter the number\")\n",
    "n=int(n)\n",
    "flag=0\n",
    "for i in range(2,n):\n",
    "    if n%i==0:\n",
    "        flag=1\n",
    "        print(\"%d is not prime number\"%n)\n",
    "        break\n",
    "if flag==0:\n",
    "    print(\"%d is a prime number\"%n)\n",
    "   \n"
   ]
  },
  {
   "cell_type": "code",
   "execution_count": 25,
   "id": "624fe4a0-5820-4f07-b12e-113aa34c47eb",
   "metadata": {},
   "outputs": [
    {
     "name": "stdin",
     "output_type": "stream",
     "text": [
      "Enter a: 2\n",
      "Enter b: 4\n",
      "Enter c: 5\n"
     ]
    },
    {
     "name": "stdout",
     "output_type": "stream",
     "text": [
      "The solutions are: (-1+4.898979485566356j)\n",
      "(-1-4.898979485566356j)\n"
     ]
    }
   ],
   "source": [
    "a=int(input(\"Enter a:\"))\n",
    "b=int(input(\"Enter b:\"))\n",
    "c=int(input(\"Enter c:\"))\n",
    "d=b*b-4*a*c\n",
    "if d<0:\n",
    "    sol1=-b/(2*a)\n",
    "    sol2=math.sqrt(-d)/2*a\n",
    "    print(\"The solutions are:\", complex(sol1,sol2))\n",
    "    print(complex(sol1,-sol2))\n",
    "else:\n",
    "    sol1=(-b+math.sqrt(d))/(2*a)\n",
    "    sol2=(-b-math.sqrt(d))/(2*a)\n",
    "    print(\"Solutions are:\", sol1)\n",
    "    print(sol2)"
   ]
  },
  {
   "cell_type": "code",
   "execution_count": null,
   "id": "ccd07ed8-0fe6-4ad3-bbd2-1cb5c495cc54",
   "metadata": {},
   "outputs": [],
   "source": []
  }
 ],
 "metadata": {
  "kernelspec": {
   "display_name": "Python 3 (ipykernel)",
   "language": "python",
   "name": "python3"
  },
  "language_info": {
   "codemirror_mode": {
    "name": "ipython",
    "version": 3
   },
   "file_extension": ".py",
   "mimetype": "text/x-python",
   "name": "python",
   "nbconvert_exporter": "python",
   "pygments_lexer": "ipython3",
   "version": "3.11.7"
  }
 },
 "nbformat": 4,
 "nbformat_minor": 5
}
