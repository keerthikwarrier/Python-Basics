{
 "cells": [
  {
   "cell_type": "code",
   "execution_count": 7,
   "id": "7c94a8be-9c22-4b89-bf96-59fe3474f43c",
   "metadata": {},
   "outputs": [
    {
     "name": "stdin",
     "output_type": "stream",
     "text": [
      "Enter a number 34\n",
      "Enter a number 34\n",
      "Enter a number 34\n",
      "Enter a number 34\n",
      "Enter a number 34\n",
      "Enter a number 34\n",
      "Enter a number 34\n",
      "Enter a number 35\n"
     ]
    },
    {
     "name": "stdout",
     "output_type": "stream",
     "text": [
      "The value is multiple of 7\n"
     ]
    }
   ],
   "source": [
    "#While Loop\n",
    "val=int(input(\"Enter a number\"))\n",
    "while val%7!=0:\n",
    "    val=int(input(\"Enter a number\"))\n",
    "print(\"The value is multiple of 7\")"
   ]
  },
  {
   "cell_type": "code",
   "execution_count": 9,
   "id": "5afbbc77-f1c4-443b-9e80-244178cc5e9b",
   "metadata": {},
   "outputs": [
    {
     "name": "stdout",
     "output_type": "stream",
     "text": [
      "2\n",
      "4\n",
      "5\n",
      "3\n",
      "6\n",
      "Keerthi\n"
     ]
    }
   ],
   "source": [
    "#For loop\n",
    "list=[2,4,5,3,6,\"Keerthi\"]\n",
    "for i in list:\n",
    "    print(i)"
   ]
  },
  {
   "cell_type": "code",
   "execution_count": 3,
   "id": "bdb891b9-0d09-4e09-9c9d-e925f9d5928a",
   "metadata": {},
   "outputs": [
    {
     "name": "stdout",
     "output_type": "stream",
     "text": [
      "0\n",
      "2\n",
      "4\n",
      "6\n",
      "8\n",
      "10\n",
      "12\n",
      "14\n",
      "16\n",
      "18\n",
      "20\n"
     ]
    }
   ],
   "source": [
    "#for loop using range\n",
    "for i in range(0,21,2):\n",
    "      print(i)"
   ]
  },
  {
   "cell_type": "code",
   "execution_count": 13,
   "id": "6a694539-9f44-408c-b4da-1ada6cc51bd7",
   "metadata": {},
   "outputs": [
    {
     "name": "stdout",
     "output_type": "stream",
     "text": [
      "1\n",
      "2\n",
      "3\n",
      "a\n",
      "b\n",
      "c\n"
     ]
    }
   ],
   "source": [
    "#Nested Loops\n",
    "#for within for loop\n",
    "X=[[1,2,3],['a','b','c']]\n",
    "for i in X:      # i iterates through each list\n",
    "    for j in i:  #j iterated through each element in the i list\n",
    "        print(j)"
   ]
  },
  {
   "cell_type": "code",
   "execution_count": 28,
   "id": "1288b538-5039-4382-9103-97ee5b684ea6",
   "metadata": {},
   "outputs": [
    {
     "name": "stdout",
     "output_type": "stream",
     "text": [
      "H\n",
      "e\n",
      "y\n",
      " \n",
      "t\n",
      "h\n",
      "e\n",
      "r\n",
      "e\n"
     ]
    }
   ],
   "source": [
    "X=\"Hey there! How are you?\"\n",
    "for i in X :\n",
    "    if i == \"!\" :\n",
    "        break\n",
    "    print(i) "
   ]
  },
  {
   "cell_type": "code",
   "execution_count": 29,
   "id": "950a3d4b-acab-4dbc-bca6-6a1e4fef6a21",
   "metadata": {},
   "outputs": [
    {
     "name": "stdout",
     "output_type": "stream",
     "text": [
      "1\n",
      "2\n",
      "4\n",
      "5\n"
     ]
    }
   ],
   "source": [
    "X=[1,2,3,4,5,3]\n",
    "for i in X:\n",
    "    if i == 3:\n",
    "        continue\n",
    "    print(i)"
   ]
  },
  {
   "cell_type": "code",
   "execution_count": 1,
   "id": "8bca8abc-7380-4cb6-b8ee-43b3e0af8cab",
   "metadata": {},
   "outputs": [
    {
     "name": "stdin",
     "output_type": "stream",
     "text": [
      "Enter N 4\n"
     ]
    },
    {
     "name": "stdout",
     "output_type": "stream",
     "text": [
      "    *******    \n",
      "     *****     \n",
      "      ***      \n",
      "       *       \n"
     ]
    }
   ],
   "source": [
    "#Exercises for For loops\n",
    "X=int(input(\"Enter N\"))\n",
    "Y=2*X-1\n",
    "n=Y\n",
    "while n>=1:\n",
    "    space=Y-n//2\n",
    "    for j in range(1,space+1):\n",
    "        print(\" \",end=\"\")\n",
    "    for i in range(1,n+1):\n",
    "        print(\"*\",end=\"\")\n",
    "    for k in range(1,space+1):\n",
    "        print(\" \",end=\"\") \n",
    "    print()\n",
    "    n=n-2"
   ]
  },
  {
   "cell_type": "code",
   "execution_count": 8,
   "id": "152b47e4-98c6-42bf-82b9-9f6aedb916e8",
   "metadata": {},
   "outputs": [
    {
     "name": "stdin",
     "output_type": "stream",
     "text": [
      "Enter N 5\n"
     ]
    },
    {
     "name": "stdout",
     "output_type": "stream",
     "text": [
      "1\n",
      "12\n",
      "123\n",
      "1234\n",
      "12345\n"
     ]
    }
   ],
   "source": [
    "#for loops\n",
    "N=int(input(\"Enter N\"))\n",
    "for i in range(1,N+1):\n",
    "    for j in range(1,i+1):\n",
    "        print(j, end='')\n",
    "    print()"
   ]
  },
  {
   "cell_type": "code",
   "execution_count": 15,
   "id": "bdaa76a9-dde0-4e98-a360-660da3c8f2ef",
   "metadata": {},
   "outputs": [
    {
     "name": "stdin",
     "output_type": "stream",
     "text": [
      "Enter the string madam\n"
     ]
    },
    {
     "name": "stdout",
     "output_type": "stream",
     "text": [
      "The string is a palindrome\n"
     ]
    }
   ],
   "source": [
    "#Palindrome\n",
    "str=input(\"Enter the string\")\n",
    "count=0\n",
    "for i in range(0,len(str)//2):\n",
    "    if str[i]!=str[len(str)-i-1]:\n",
    "        break\n",
    "    count+=1\n",
    "if count==len(str)//2:\n",
    "     print(\"The string is a palindrome\")\n",
    " "
   ]
  },
  {
   "cell_type": "code",
   "execution_count": 1,
   "id": "662d687a-e17c-42c0-b844-30f8cf208eec",
   "metadata": {},
   "outputs": [
    {
     "name": "stdout",
     "output_type": "stream",
     "text": [
      "Keerthi\n",
      "Keerthi\n",
      "Keerthi\n",
      "Keerthi\n",
      "Keerthi\n",
      "Keerthi\n",
      "Keerthi\n",
      "Keerthi\n",
      "Keerthi\n",
      "Keerthi\n"
     ]
    }
   ],
   "source": [
    "#Exercises for While Loop\n",
    "n=1\n",
    "while n<=10:\n",
    "    print(\"Keerthi\")\n",
    "    n=n+1"
   ]
  },
  {
   "cell_type": "code",
   "execution_count": 2,
   "id": "897f58cb-a7d4-443d-9fe9-a9fdeb9a7c29",
   "metadata": {},
   "outputs": [
    {
     "name": "stdout",
     "output_type": "stream",
     "text": [
      "55\n"
     ]
    }
   ],
   "source": [
    "#sum of natural numbers till 10\n",
    "n=1\n",
    "sum=0\n",
    "while n<=10:\n",
    "    sum=sum+n\n",
    "    n=n+1\n",
    "print(sum)"
   ]
  },
  {
   "cell_type": "code",
   "execution_count": 3,
   "id": "a1d16416-92dd-4949-8431-3e0d5db30424",
   "metadata": {},
   "outputs": [
    {
     "name": "stdout",
     "output_type": "stream",
     "text": [
      "30\n"
     ]
    }
   ],
   "source": [
    "#sum of even numbers till 10\n",
    "n=1\n",
    "sum=0\n",
    "while n<=10:\n",
    "    if n%2==0:\n",
    "         sum=sum+n\n",
    "    n=n+1    \n",
    "print(sum)"
   ]
  },
  {
   "cell_type": "code",
   "execution_count": 3,
   "id": "f6b94f24-d2c7-4666-a999-64d640f31898",
   "metadata": {},
   "outputs": [
    {
     "name": "stdin",
     "output_type": "stream",
     "text": [
      "Enter n 2345\n"
     ]
    },
    {
     "name": "stdout",
     "output_type": "stream",
     "text": [
      "5432\n"
     ]
    }
   ],
   "source": [
    "#reverse the number n number of time\n",
    "n=int(input(\"Enter n\"))\n",
    "nr=0\n",
    "while n>0:\n",
    "    rem=n%10\n",
    "    nr=nr*10+rem\n",
    "    n=n//10\n",
    "print(nr)"
   ]
  },
  {
   "cell_type": "code",
   "execution_count": 3,
   "id": "8b3db4de-4b98-42dc-8b2a-484aaf0c5ad6",
   "metadata": {},
   "outputs": [
    {
     "name": "stdout",
     "output_type": "stream",
     "text": [
      "3\n"
     ]
    }
   ],
   "source": [
    "#Find the length of the list without using len()\n",
    "X=[1,2.3,\"Keerthi\"]\n",
    "length=0\n",
    "i=0\n",
    "try:\n",
    "    while X[i]:\n",
    "        length+=1\n",
    "        i+=1\n",
    "except:\n",
    "    print(length)\n",
    "\n"
   ]
  },
  {
   "cell_type": "code",
   "execution_count": 8,
   "id": "c596c070-0e84-4098-93dd-bd2afa21aa59",
   "metadata": {},
   "outputs": [
    {
     "name": "stdin",
     "output_type": "stream",
     "text": [
      "Enter number of lines 5\n"
     ]
    },
    {
     "name": "stdout",
     "output_type": "stream",
     "text": [
      "1\n",
      "22\n",
      "333\n",
      "4444\n",
      "55555\n"
     ]
    }
   ],
   "source": [
    "n=int(input(\"Enter number of lines\"))\n",
    "i=1\n",
    "while i<=n :\n",
    "    j=1\n",
    "    while j<=i:\n",
    "      print(i,end=\"\")\n",
    "      j+=1\n",
    "    i+=1\n",
    "    print()"
   ]
  },
  {
   "cell_type": "code",
   "execution_count": 16,
   "id": "30075330-f96f-4694-9eb2-485b506c4502",
   "metadata": {},
   "outputs": [
    {
     "name": "stdin",
     "output_type": "stream",
     "text": [
      "Guess a 4 digit number 5678\n"
     ]
    },
    {
     "ename": "TypeError",
     "evalue": "'int' object is not subscriptable",
     "output_type": "error",
     "traceback": [
      "\u001b[1;31m---------------------------------------------------------------------------\u001b[0m",
      "\u001b[1;31mTypeError\u001b[0m                                 Traceback (most recent call last)",
      "Cell \u001b[1;32mIn[16], line 7\u001b[0m\n\u001b[0;32m      5\u001b[0m j\u001b[38;5;241m=\u001b[39m\u001b[38;5;241m0\u001b[39m\n\u001b[0;32m      6\u001b[0m \u001b[38;5;28;01mwhile\u001b[39;00m user_number\u001b[38;5;241m!=\u001b[39m\u001b[38;5;241m0\u001b[39m:\n\u001b[1;32m----> 7\u001b[0m     \u001b[38;5;28;01mif\u001b[39;00m user_number[i]\u001b[38;5;241m==\u001b[39mnumber[j]:\n\u001b[0;32m      8\u001b[0m           count\u001b[38;5;241m+\u001b[39m\u001b[38;5;241m=\u001b[39m\u001b[38;5;241m1\u001b[39m\n\u001b[0;32m      9\u001b[0m           i\u001b[38;5;241m+\u001b[39m\u001b[38;5;241m=\u001b[39m\u001b[38;5;241m1\u001b[39m\n",
      "\u001b[1;31mTypeError\u001b[0m: 'int' object is not subscriptable"
     ]
    }
   ],
   "source": [
    "number=4567\n",
    "user_number=int(input(\"Guess a 4 digit number\"))\n",
    "count=0\n",
    "i=0\n",
    "j=0\n",
    "while user_number!=0:\n",
    "    if user_number[i]==number[j]:\n",
    "          count+=1\n",
    "          i+=1\n",
    "          j+=1\n",
    "    else:\n",
    "           i+=1\n",
    "           j+=1\n",
    "print(\"%d positions of the number are correctly entered\",count)\n",
    "          \n",
    "      \n",
    "\n",
    "        "
   ]
  },
  {
   "cell_type": "code",
   "execution_count": 26,
   "id": "f47fcb06-af28-4f5b-8f72-1de1812a6faf",
   "metadata": {},
   "outputs": [
    {
     "name": "stdin",
     "output_type": "stream",
     "text": [
      "Guess the 4 digit number 4567\n"
     ]
    },
    {
     "name": "stdout",
     "output_type": "stream",
     "text": [
      "the %d positions of your number are guessed correctly 0\n"
     ]
    },
    {
     "name": "stdin",
     "output_type": "stream",
     "text": [
      "Guess the 4 digit number 8769\n"
     ]
    },
    {
     "name": "stdout",
     "output_type": "stream",
     "text": [
      "the %d positions of your number are guessed correctly 1\n"
     ]
    },
    {
     "name": "stdin",
     "output_type": "stream",
     "text": [
      "Guess the 4 digit number 8564\n"
     ]
    },
    {
     "name": "stdout",
     "output_type": "stream",
     "text": [
      "the %d positions of your number are guessed correctly 1\n"
     ]
    },
    {
     "name": "stdin",
     "output_type": "stream",
     "text": [
      "Guess the 4 digit number 8574\n"
     ]
    },
    {
     "name": "stdout",
     "output_type": "stream",
     "text": [
      "the %d positions of your number are guessed correctly 2\n"
     ]
    },
    {
     "name": "stdin",
     "output_type": "stream",
     "text": [
      "Guess the 4 digit number 8171\n"
     ]
    },
    {
     "name": "stdout",
     "output_type": "stream",
     "text": [
      "the %d positions of your number are guessed correctly 2\n"
     ]
    },
    {
     "name": "stdin",
     "output_type": "stream",
     "text": [
      "Guess the 4 digit number 8272\n"
     ]
    },
    {
     "name": "stdout",
     "output_type": "stream",
     "text": [
      "the %d positions of your number are guessed correctly 2\n"
     ]
    },
    {
     "name": "stdin",
     "output_type": "stream",
     "text": [
      "Guess the 4 digit number 8373\n"
     ]
    },
    {
     "name": "stdout",
     "output_type": "stream",
     "text": [
      "the %d positions of your number are guessed correctly 2\n"
     ]
    },
    {
     "name": "stdin",
     "output_type": "stream",
     "text": [
      "Guess the 4 digit number 8474\n"
     ]
    },
    {
     "name": "stdout",
     "output_type": "stream",
     "text": [
      "the %d positions of your number are guessed correctly 2\n"
     ]
    },
    {
     "name": "stdin",
     "output_type": "stream",
     "text": [
      "Guess the 4 digit number 8575\n"
     ]
    },
    {
     "name": "stdout",
     "output_type": "stream",
     "text": [
      "the %d positions of your number are guessed correctly 2\n"
     ]
    },
    {
     "name": "stdin",
     "output_type": "stream",
     "text": [
      "Guess the 4 digit number 8676\n"
     ]
    },
    {
     "name": "stdout",
     "output_type": "stream",
     "text": [
      "the %d positions of your number are guessed correctly 3\n"
     ]
    },
    {
     "name": "stdin",
     "output_type": "stream",
     "text": [
      "Guess the 4 digit number 8678\n"
     ]
    },
    {
     "name": "stdout",
     "output_type": "stream",
     "text": [
      "the %d positions of your number are guessed correctly 3\n"
     ]
    },
    {
     "name": "stdin",
     "output_type": "stream",
     "text": [
      "Guess the 4 digit number 8679\n"
     ]
    },
    {
     "name": "stdout",
     "output_type": "stream",
     "text": [
      "the %d positions of your number are guessed correctly 3\n"
     ]
    },
    {
     "name": "stdin",
     "output_type": "stream",
     "text": [
      "Guess the 4 digit number 8670\n"
     ]
    },
    {
     "name": "stdout",
     "output_type": "stream",
     "text": [
      "Congrats, You guessed the number correctly!\n"
     ]
    }
   ],
   "source": [
    "import random\n",
    "nump=random.randint(1000,9999)\n",
    "n=int(input(\"Guess the 4 digit number\"))\n",
    "while n!=10:\n",
    "    num=nump # This nump will be stored in num , so the num can be altered and nump will be constant\n",
    "    count=0 #this is count of the digits which are correct\n",
    "    while num>0:\n",
    "        rem=num%10\n",
    "        remc=n%10\n",
    "        num=num//10\n",
    "        n=n//10\n",
    "        if rem==remc:\n",
    "            count+=1\n",
    "    if count==4:\n",
    "        print(\"Congrats, You guessed the number correctly!\")\n",
    "        break\n",
    "    else:\n",
    "        print(\"the %d positions of your number are guessed correctly\",count)\n",
    "        n=int(input(\"Guess the 4 digit number\"))\n",
    "else:\n",
    "    print(\"You quit the game\")"
   ]
  },
  {
   "cell_type": "code",
   "execution_count": null,
   "id": "96ec3af4-0115-421d-8615-2022bdda6a2c",
   "metadata": {},
   "outputs": [],
   "source": []
  }
 ],
 "metadata": {
  "kernelspec": {
   "display_name": "Python 3 (ipykernel)",
   "language": "python",
   "name": "python3"
  },
  "language_info": {
   "codemirror_mode": {
    "name": "ipython",
    "version": 3
   },
   "file_extension": ".py",
   "mimetype": "text/x-python",
   "name": "python",
   "nbconvert_exporter": "python",
   "pygments_lexer": "ipython3",
   "version": "3.11.7"
  }
 },
 "nbformat": 4,
 "nbformat_minor": 5
}
