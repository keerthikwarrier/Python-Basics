{
 "cells": [
  {
   "cell_type": "code",
   "execution_count": 1,
   "id": "a67c2a46-9885-4063-b654-18ff467652d8",
   "metadata": {},
   "outputs": [],
   "source": [
    "import re"
   ]
  },
  {
   "cell_type": "code",
   "execution_count": 2,
   "id": "8e821422-05d9-44cd-ac9c-9a6d9cf6a9ff",
   "metadata": {},
   "outputs": [
    {
     "name": "stdout",
     "output_type": "stream",
     "text": [
      "Hey GoodMorning,  Please call 911. Im  from 13, 2nd cross\n"
     ]
    }
   ],
   "source": [
    "str= \"Hey GoodMorning,  Please call 911. Im  from 13, 2nd cross\"\n",
    "print(str)"
   ]
  },
  {
   "cell_type": "code",
   "execution_count": 3,
   "id": "910a5c6d-35fc-464a-9fa2-3132b48c5f0f",
   "metadata": {},
   "outputs": [
    {
     "name": "stdout",
     "output_type": "stream",
     "text": [
      "['Hey', 'GoodMorning', 'Please', 'call', 'Im', 'from', 'nd', 'cross']\n"
     ]
    }
   ],
   "source": [
    "pattern= r'[a-zA-Z]+'\n",
    "match=re.findall(pattern,str)\n",
    "print(match)"
   ]
  },
  {
   "cell_type": "code",
   "execution_count": 4,
   "id": "659d840a-d040-4e03-9b41-05bc252e6f4c",
   "metadata": {},
   "outputs": [
    {
     "name": "stdout",
     "output_type": "stream",
     "text": [
      "['911', '13', '2']\n"
     ]
    }
   ],
   "source": [
    "pattern= r'[0-9]+'\n",
    "match=re.findall(pattern,str)\n",
    "print(match)"
   ]
  },
  {
   "cell_type": "code",
   "execution_count": 5,
   "id": "9b31f3fd-549b-4fb4-a4d3-24611775bcf6",
   "metadata": {},
   "outputs": [
    {
     "name": "stdout",
     "output_type": "stream",
     "text": [
      "[',', '.', ',']\n"
     ]
    }
   ],
   "source": [
    "pattern= r'[^[a-zA-Z0-9 ]+'\n",
    "match=re.findall(pattern,str)\n",
    "print(match)"
   ]
  },
  {
   "cell_type": "code",
   "execution_count": 6,
   "id": "278e307f-b008-4b7e-8c57-53b5a30b798c",
   "metadata": {},
   "outputs": [
    {
     "name": "stdout",
     "output_type": "stream",
     "text": [
      "\n",
      "apple\n",
      "banana\n",
      "orange\n",
      "peach\n",
      "avocado\n",
      "cherries\n",
      "\n"
     ]
    }
   ],
   "source": [
    "str='''\n",
    "apple\n",
    "banana\n",
    "orange\n",
    "peach\n",
    "avocado\n",
    "cherries\n",
    "'''\n",
    "print(str)"
   ]
  },
  {
   "cell_type": "code",
   "execution_count": 7,
   "id": "39dcc1cc-619f-4ee2-9168-ce2b61b95d27",
   "metadata": {},
   "outputs": [
    {
     "name": "stdout",
     "output_type": "stream",
     "text": [
      "cherries\n"
     ]
    }
   ],
   "source": [
    "pattern=r'.*s'\n",
    "match=re.findall(pattern,str)\n",
    "for i in match:\n",
    "    print(i)\n"
   ]
  },
  {
   "cell_type": "code",
   "execution_count": 8,
   "id": "1cbda225-d4d9-4a83-a0b1-fdfb5c835ae4",
   "metadata": {},
   "outputs": [
    {
     "name": "stdout",
     "output_type": "stream",
     "text": [
      "apple\n",
      "orange\n",
      "avocado\n"
     ]
    }
   ],
   "source": [
    "pattern=r'\\b[aeiou].+\\b'\n",
    "match=re.findall(pattern,str)\n",
    "for i in match:\n",
    "    print(i)"
   ]
  },
  {
   "cell_type": "code",
   "execution_count": 9,
   "id": "7f8259a6-4715-45e1-81fd-51c12f2e3a65",
   "metadata": {},
   "outputs": [],
   "source": [
    "str='''\n",
    "fsdfs@gmail.com\n",
    "3gfgfd.56\n",
    "tgfegge34ds@hotmail.com\n",
    "fsfdds@eses\n",
    "'''"
   ]
  },
  {
   "cell_type": "code",
   "execution_count": 10,
   "id": "abe998bb-8ae9-4f32-b7a3-5c5ae868e4de",
   "metadata": {},
   "outputs": [
    {
     "name": "stdout",
     "output_type": "stream",
     "text": [
      "fsdfs@gmail.com\n",
      "tgfegge34ds@hotmail.com\n"
     ]
    }
   ],
   "source": [
    "pattern=r'[a-z]+[0-9]*[a-z]*@[a-z]+\\.com'\n",
    "match=re.findall(pattern,str)\n",
    "for i in match:\n",
    "    print(i)"
   ]
  },
  {
   "cell_type": "code",
   "execution_count": null,
   "id": "4b14a33c-a79c-403a-b7c7-278e1e036e8e",
   "metadata": {},
   "outputs": [],
   "source": []
  }
 ],
 "metadata": {
  "kernelspec": {
   "display_name": "Python 3 (ipykernel)",
   "language": "python",
   "name": "python3"
  },
  "language_info": {
   "codemirror_mode": {
    "name": "ipython",
    "version": 3
   },
   "file_extension": ".py",
   "mimetype": "text/x-python",
   "name": "python",
   "nbconvert_exporter": "python",
   "pygments_lexer": "ipython3",
   "version": "3.11.7"
  }
 },
 "nbformat": 4,
 "nbformat_minor": 5
}
