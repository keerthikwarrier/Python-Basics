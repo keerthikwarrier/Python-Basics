{
 "cells": [
  {
   "cell_type": "code",
   "execution_count": 1,
   "id": "6b90241d-74e5-4e8d-b32c-5ebf9a8bffec",
   "metadata": {},
   "outputs": [
    {
     "name": "stdout",
     "output_type": "stream",
     "text": [
      "Keerthi\n"
     ]
    }
   ],
   "source": [
    "str='Keerthi'\n",
    "print(str)"
   ]
  },
  {
   "cell_type": "code",
   "execution_count": 5,
   "id": "9d8e60d4-77f9-4934-a0dc-145eea27716c",
   "metadata": {},
   "outputs": [
    {
     "name": "stdout",
     "output_type": "stream",
     "text": [
      "Keerthi's day\n"
     ]
    }
   ],
   "source": [
    "str=\"Keerthi's day\"\n",
    "print(str)"
   ]
  },
  {
   "cell_type": "code",
   "execution_count": 7,
   "id": "ce49b7c6-a60e-488d-b0ad-0f30e0f1e92b",
   "metadata": {},
   "outputs": [
    {
     "name": "stdout",
     "output_type": "stream",
     "text": [
      "Keerthi said,\"I'm busy today\"\n"
     ]
    }
   ],
   "source": [
    "str='Keerthi said,\"I\\'m busy today\"'\n",
    "print(str)"
   ]
  },
  {
   "cell_type": "code",
   "execution_count": 8,
   "id": "a4d33b33-bb93-4e17-9819-830e1f31c715",
   "metadata": {},
   "outputs": [
    {
     "name": "stdout",
     "output_type": "stream",
     "text": [
      "Hey there!\n",
      "Welcome to my house.\n"
     ]
    }
   ],
   "source": [
    "str='''Hey there!\n",
    "Welcome to my house.'''\n",
    "print(str)"
   ]
  },
  {
   "cell_type": "code",
   "execution_count": 9,
   "id": "fb17deda-fb2a-4187-b486-f9a2633a5104",
   "metadata": {},
   "outputs": [
    {
     "data": {
      "text/plain": [
       "18"
      ]
     },
     "execution_count": 9,
     "metadata": {},
     "output_type": "execute_result"
    }
   ],
   "source": [
    "str=\"Keerthi's birthday\"\n",
    "len(str)"
   ]
  },
  {
   "cell_type": "code",
   "execution_count": 11,
   "id": "06c0070f-0427-4539-9e41-099879228276",
   "metadata": {},
   "outputs": [
    {
     "data": {
      "text/plain": [
       "'s'"
      ]
     },
     "execution_count": 11,
     "metadata": {},
     "output_type": "execute_result"
    }
   ],
   "source": [
    "str[8]"
   ]
  },
  {
   "cell_type": "code",
   "execution_count": 12,
   "id": "214a3e52-22cc-4209-9c2c-a360d756287c",
   "metadata": {},
   "outputs": [
    {
     "data": {
      "text/plain": [
       "'Keerth'"
      ]
     },
     "execution_count": 12,
     "metadata": {},
     "output_type": "execute_result"
    }
   ],
   "source": [
    "str[:6]"
   ]
  },
  {
   "cell_type": "code",
   "execution_count": 13,
   "id": "71819498-f7bb-4c7e-8085-8dc04d8ed681",
   "metadata": {},
   "outputs": [
    {
     "data": {
      "text/plain": [
       "\"hi'\""
      ]
     },
     "execution_count": 13,
     "metadata": {},
     "output_type": "execute_result"
    }
   ],
   "source": [
    "str[5:8]"
   ]
  },
  {
   "cell_type": "code",
   "execution_count": 14,
   "id": "feb8b0e5-c971-4e78-b965-8c337978d3df",
   "metadata": {},
   "outputs": [
    {
     "data": {
      "text/plain": [
       "\"hi's birthday\""
      ]
     },
     "execution_count": 14,
     "metadata": {},
     "output_type": "execute_result"
    }
   ],
   "source": [
    "str[5:]"
   ]
  },
  {
   "cell_type": "code",
   "execution_count": 16,
   "id": "b70ff325-9c73-44c3-9fb8-de3a1ae97024",
   "metadata": {},
   "outputs": [
    {
     "data": {
      "text/plain": [
       "\"KEERTHI'S BIRTHDAY\""
      ]
     },
     "execution_count": 16,
     "metadata": {},
     "output_type": "execute_result"
    }
   ],
   "source": [
    "str.upper()"
   ]
  },
  {
   "cell_type": "code",
   "execution_count": 17,
   "id": "4c048d91-24a7-443e-b59a-926ca70bd4c6",
   "metadata": {},
   "outputs": [
    {
     "data": {
      "text/plain": [
       "\"keerthi's birthday\""
      ]
     },
     "execution_count": 17,
     "metadata": {},
     "output_type": "execute_result"
    }
   ],
   "source": [
    "str.lower()"
   ]
  },
  {
   "cell_type": "code",
   "execution_count": 18,
   "id": "04e2e402-dd44-4d92-86a8-555df3af4763",
   "metadata": {},
   "outputs": [
    {
     "data": {
      "text/plain": [
       "10"
      ]
     },
     "execution_count": 18,
     "metadata": {},
     "output_type": "execute_result"
    }
   ],
   "source": [
    "str.find('b')"
   ]
  },
  {
   "cell_type": "code",
   "execution_count": 19,
   "id": "e752a461-6040-4b2b-ad52-2d6b4d34e432",
   "metadata": {},
   "outputs": [
    {
     "data": {
      "text/plain": [
       "1"
      ]
     },
     "execution_count": 19,
     "metadata": {},
     "output_type": "execute_result"
    }
   ],
   "source": [
    "str.find('e')"
   ]
  },
  {
   "cell_type": "code",
   "execution_count": 20,
   "id": "36fe32b7-5d0f-45d1-a069-8ca195af290b",
   "metadata": {},
   "outputs": [
    {
     "data": {
      "text/plain": [
       "1"
      ]
     },
     "execution_count": 20,
     "metadata": {},
     "output_type": "execute_result"
    }
   ],
   "source": [
    "str.index('e')"
   ]
  },
  {
   "cell_type": "code",
   "execution_count": 21,
   "id": "c3512764-70c8-4bb6-a75b-b64cac91a8b7",
   "metadata": {},
   "outputs": [
    {
     "data": {
      "text/plain": [
       "[\"Keerthi's\", 'birthday']"
      ]
     },
     "execution_count": 21,
     "metadata": {},
     "output_type": "execute_result"
    }
   ],
   "source": [
    "str.split(' ')"
   ]
  },
  {
   "cell_type": "code",
   "execution_count": 22,
   "id": "c0ebb859-680a-4305-a8e3-23d90c99150f",
   "metadata": {},
   "outputs": [
    {
     "data": {
      "text/plain": [
       "\"Keerthi's day\""
      ]
     },
     "execution_count": 22,
     "metadata": {},
     "output_type": "execute_result"
    }
   ],
   "source": [
    "str.replace(\"birthday\",\"day\")"
   ]
  },
  {
   "cell_type": "code",
   "execution_count": 23,
   "id": "8af75056-7327-4430-be30-e954f34f5bf3",
   "metadata": {},
   "outputs": [
    {
     "data": {
      "text/plain": [
       "(\"Keerthi's\", ' ', 'birthday')"
      ]
     },
     "execution_count": 23,
     "metadata": {},
     "output_type": "execute_result"
    }
   ],
   "source": [
    "str.rpartition(\" \")"
   ]
  },
  {
   "cell_type": "code",
   "execution_count": 24,
   "id": "f3da14dc-6bba-4972-a736-5a58f29bd57f",
   "metadata": {},
   "outputs": [
    {
     "data": {
      "text/plain": [
       "\"Keerthi's birthday Keerthi's birthday\""
      ]
     },
     "execution_count": 24,
     "metadata": {},
     "output_type": "execute_result"
    }
   ],
   "source": [
    "str+\" \"+str"
   ]
  },
  {
   "cell_type": "code",
   "execution_count": 26,
   "id": "2b73d954-4d15-4cc9-8a25-7de9a8a6761c",
   "metadata": {},
   "outputs": [
    {
     "name": "stdout",
     "output_type": "stream",
     "text": [
      "Hey there, all!\n"
     ]
    }
   ],
   "source": [
    "str1=\"Hey\"\n",
    "str2=\"there\"\n",
    "str3=\"all\"\n",
    "result=\"{} {}, {}!\".format(str1,str2,str3)\n",
    "print(result)"
   ]
  },
  {
   "cell_type": "code",
   "execution_count": 27,
   "id": "0cd9b7a8-cb1a-4085-b766-5df850a7378b",
   "metadata": {},
   "outputs": [
    {
     "data": {
      "text/plain": [
       "'Hey there, all!'"
      ]
     },
     "execution_count": 27,
     "metadata": {},
     "output_type": "execute_result"
    }
   ],
   "source": [
    "result"
   ]
  },
  {
   "cell_type": "code",
   "execution_count": 4,
   "id": "40f39d19-fd6c-4a31-98f9-61f9edfdcb8b",
   "metadata": {},
   "outputs": [
    {
     "name": "stdout",
     "output_type": "stream",
     "text": [
      "all! there, Hey\n"
     ]
    }
   ],
   "source": [
    "result='Hey there, all!'\n",
    "list = result.split(' ')[::-1]\n",
    "reversed=[]\n",
    "for i in list:\n",
    "    reversed.append(i)\n",
    "print(\" \".join(reversed))"
   ]
  },
  {
   "cell_type": "code",
   "execution_count": 5,
   "id": "762dcd4c-82d2-43a4-968e-04aa1d0b5e99",
   "metadata": {},
   "outputs": [
    {
     "name": "stdout",
     "output_type": "stream",
     "text": [
      "all! there, Hey\n"
     ]
    }
   ],
   "source": [
    "result='Hey there, all!'\n",
    "list = result.split(' ')[::-1]\n",
    "print(\" \".join(list))"
   ]
  },
  {
   "cell_type": "code",
   "execution_count": null,
   "id": "6063719d-cb5f-491b-afe7-b43835c9262d",
   "metadata": {},
   "outputs": [],
   "source": []
  }
 ],
 "metadata": {
  "kernelspec": {
   "display_name": "Python 3 (ipykernel)",
   "language": "python",
   "name": "python3"
  },
  "language_info": {
   "codemirror_mode": {
    "name": "ipython",
    "version": 3
   },
   "file_extension": ".py",
   "mimetype": "text/x-python",
   "name": "python",
   "nbconvert_exporter": "python",
   "pygments_lexer": "ipython3",
   "version": "3.11.7"
  }
 },
 "nbformat": 4,
 "nbformat_minor": 5
}
