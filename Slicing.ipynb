{
 "cells": [
  {
   "cell_type": "code",
   "execution_count": 33,
   "id": "0a049f4e-d4f1-4753-8d36-6a39c8034fc0",
   "metadata": {},
   "outputs": [
    {
     "name": "stdout",
     "output_type": "stream",
     "text": [
      "[1, 2, 3, 4, 5, 6, 7, 8, 9]\n",
      "(1, 2, 3, 4, 5, 6, 7, 8, 9)\n",
      "Good Afternoon\n"
     ]
    }
   ],
   "source": [
    "#create a list , tuple and string\n",
    "list1=[1,2,3,4,5,6,7,8,9]\n",
    "tuple1=tuple(list1)\n",
    "str='Good Afternoon'\n",
    "print(list1)\n",
    "print(tuple1)\n",
    "print(str)"
   ]
  },
  {
   "cell_type": "code",
   "execution_count": 19,
   "id": "a5f70d43-cd55-4589-b03e-23a02e892168",
   "metadata": {},
   "outputs": [
    {
     "name": "stdout",
     "output_type": "stream",
     "text": [
      "3\n",
      "9\n",
      "9\n"
     ]
    }
   ],
   "source": [
    "#Access list elements\n",
    "print(list1[2])\n",
    "print(list1[len(list1)-1]) #using len()\n",
    "print(list1[-1])   # returns the 1st element from last"
   ]
  },
  {
   "cell_type": "code",
   "execution_count": 20,
   "id": "e1367299-c88f-4582-a7b6-7062b9e36588",
   "metadata": {},
   "outputs": [
    {
     "name": "stdout",
     "output_type": "stream",
     "text": [
      "[1, 2, 3]\n",
      "[5, 6, 7, 8, 9]\n",
      "[4, 5, 6]\n",
      "[1, 2, 3, 4, 5, 6, 7, 8]\n",
      "[7, 8]\n"
     ]
    }
   ],
   "source": [
    "#Access a range of values\n",
    "print(list1[:3])\n",
    "print(list1[4:])\n",
    "print(list1[3:6])\n",
    "print(list1[0:-1])\n",
    "print(list1[-3:-1])"
   ]
  },
  {
   "cell_type": "code",
   "execution_count": 21,
   "id": "8ab6b4a7-e507-459f-a518-53dbc09f2d55",
   "metadata": {},
   "outputs": [
    {
     "name": "stdout",
     "output_type": "stream",
     "text": [
      "[1, 3, 5, 7, 9]\n",
      "[2, 4, 6, 8]\n",
      "[8, 6, 4, 2]\n",
      "[9, 8, 7, 6, 5, 4, 3, 2, 1]\n"
     ]
    }
   ],
   "source": [
    "#Slicing in list\n",
    "print(list1[::2]) #returns every 2nd element starting from 0th index\n",
    "print(list1[1::2]) #returns every 2nd element starting from 1st index\n",
    "print(list1[-2::-2]) #returns every 2nd element in reverse order starting from last 2nd index\n",
    "print(list1[::-1]) #returns the list in reverse order"
   ]
  },
  {
   "cell_type": "code",
   "execution_count": 22,
   "id": "1b0a329f-d1c2-4aab-8566-30d9b26ed8fb",
   "metadata": {},
   "outputs": [
    {
     "name": "stdout",
     "output_type": "stream",
     "text": [
      "(9, 8, 7, 6, 5, 4, 3, 2, 1)\n",
      "(1, 3, 5, 7, 9)\n",
      "(2, 4, 6, 8)\n",
      "(8, 6, 4, 2)\n"
     ]
    }
   ],
   "source": [
    "#Slicing in tuples is same as in lists\n",
    "print(tuple1[::-1]) \n",
    "print(tuple1[::2])\n",
    "print(tuple1[1::2])\n",
    "print(tuple1[-2::-2])"
   ]
  },
  {
   "cell_type": "code",
   "execution_count": 34,
   "id": "9d4374f3-47d7-4e96-9ce4-ead34cdf8adf",
   "metadata": {},
   "outputs": [
    {
     "name": "stdout",
     "output_type": "stream",
     "text": [
      "G\n",
      "od After\n",
      "odAtro\n",
      "Afternoon\n",
      "noonretfA dooG\n"
     ]
    }
   ],
   "source": [
    "#Slicing in strings\n",
    "str='Good Afternoon'\n",
    "print(str[0])\n",
    "print(str[2:10])\n",
    "print(str[1:12:2])\n",
    "print(str[5:])\n",
    "print(str[::-1]) #to print the string in reverse order"
   ]
  },
  {
   "cell_type": "code",
   "execution_count": 27,
   "id": "48e17b43-d70d-489c-957c-310d2ccc8a67",
   "metadata": {},
   "outputs": [
    {
     "name": "stdout",
     "output_type": "stream",
     "text": [
      "[1, 2, 3, 4, 5, 6, 7, 8, 9]\n",
      "[2, 4]\n"
     ]
    }
   ],
   "source": [
    "#Slicing using slice()\n",
    "listslice=slice(1,5,2)\n",
    "print(list1)\n",
    "print(list1[listslice])"
   ]
  },
  {
   "cell_type": "code",
   "execution_count": 36,
   "id": "5003ce0f-689c-4174-b3bb-9810868cab97",
   "metadata": {},
   "outputs": [
    {
     "name": "stdout",
     "output_type": "stream",
     "text": [
      "Good Afternoon\n",
      "noonretfA d\n"
     ]
    }
   ],
   "source": [
    "stringslice=slice(-1,2,-1)\n",
    "print(str)\n",
    "print(str[stringslice])"
   ]
  },
  {
   "cell_type": "code",
   "execution_count": 38,
   "id": "223d56f7-8a25-48e6-b8b3-6e1d4a6ab67d",
   "metadata": {},
   "outputs": [
    {
     "name": "stdin",
     "output_type": "stream",
     "text": [
      "Enter a string Welcome to ooty\n",
      "Enter a substring ooty\n"
     ]
    },
    {
     "name": "stdout",
     "output_type": "stream",
     "text": [
      "11\n"
     ]
    }
   ],
   "source": [
    "#Exercise- Find the substring in the string\n",
    "s=input(\"Enter a string\")\n",
    "sub=input(\"Enter a substring\")\n",
    "print(s.find(sub))"
   ]
  },
  {
   "cell_type": "code",
   "execution_count": null,
   "id": "6a1cf70e-2001-461f-99fe-f82c23345092",
   "metadata": {},
   "outputs": [],
   "source": []
  }
 ],
 "metadata": {
  "kernelspec": {
   "display_name": "Python 3 (ipykernel)",
   "language": "python",
   "name": "python3"
  },
  "language_info": {
   "codemirror_mode": {
    "name": "ipython",
    "version": 3
   },
   "file_extension": ".py",
   "mimetype": "text/x-python",
   "name": "python",
   "nbconvert_exporter": "python",
   "pygments_lexer": "ipython3",
   "version": "3.11.7"
  }
 },
 "nbformat": 4,
 "nbformat_minor": 5
}
