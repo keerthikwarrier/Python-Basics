{
 "cells": [
  {
   "cell_type": "markdown",
   "id": "808af232-d781-4674-b5b6-47c37490f8a1",
   "metadata": {},
   "source": [
    "# Types of Expressions"
   ]
  },
  {
   "cell_type": "code",
   "execution_count": 1,
   "id": "7b9bce56-0b12-45fd-a116-698b91bc56b7",
   "metadata": {},
   "outputs": [
    {
     "name": "stdout",
     "output_type": "stream",
     "text": [
      "19.3\n"
     ]
    }
   ],
   "source": [
    "#Constant Expressions\n",
    "a=19+0.3\n",
    "print(a)"
   ]
  },
  {
   "cell_type": "code",
   "execution_count": 2,
   "id": "2e6c7b85-6bcf-4892-b680-60914bded395",
   "metadata": {},
   "outputs": [
    {
     "name": "stdout",
     "output_type": "stream",
     "text": [
      "23\n",
      "-3\n",
      "130\n",
      "0.7692307692307693\n",
      "10\n",
      "10000000000000\n",
      "0\n"
     ]
    }
   ],
   "source": [
    "#Arithmetic Expressions\n",
    "b=13\n",
    "a=10\n",
    "c=a+b #addition\n",
    "print(c)\n",
    "c=a-b #subtraction\n",
    "print(c)\n",
    "c=a*b #multiplication\n",
    "print(c)\n",
    "c=a/b #division\n",
    "print(c)\n",
    "c=a%b #modulus\n",
    "print(c)\n",
    "c=a**b #exponentiation\n",
    "print(c)\n",
    "c=a//b #floor division\n",
    "print(c)"
   ]
  },
  {
   "cell_type": "code",
   "execution_count": 5,
   "id": "47e94ed4-2aa2-4420-b61a-dcff123df727",
   "metadata": {},
   "outputs": [
    {
     "name": "stdout",
     "output_type": "stream",
     "text": [
      "21\n"
     ]
    }
   ],
   "source": [
    "# Integral Expressions\n",
    "a=10\n",
    "b=11.3\n",
    "c=a+int(b)\n",
    "print(c)"
   ]
  },
  {
   "cell_type": "code",
   "execution_count": 6,
   "id": "66ca574b-bee5-4703-bcdf-fd6b6164e173",
   "metadata": {},
   "outputs": [
    {
     "name": "stdout",
     "output_type": "stream",
     "text": [
      "5.5\n"
     ]
    }
   ],
   "source": [
    "#Floating Expressions\n",
    "a=11\n",
    "b=2\n",
    "c=a/b\n",
    "print(c)"
   ]
  },
  {
   "cell_type": "code",
   "execution_count": 7,
   "id": "7b7486b0-71d5-4d13-8e00-79c65ecb19d2",
   "metadata": {},
   "outputs": [
    {
     "name": "stdout",
     "output_type": "stream",
     "text": [
      "False\n",
      "False\n",
      "True\n",
      "True\n",
      "False\n",
      "True\n"
     ]
    }
   ],
   "source": [
    "#Relational Expressions\n",
    "x=11\n",
    "y=12\n",
    "print(x==y) #Equal to \n",
    "print(x>y) #Greater than\n",
    "print(x<y) #Lesser than\n",
    "print(x!=y) #Not equal to\n",
    "print(x>=y) #Greater than or equal to \n",
    "print(x<=y) #Lesser than or equal to"
   ]
  },
  {
   "cell_type": "code",
   "execution_count": 8,
   "id": "81e62515-bd83-4d72-a1c8-7859536bf8b0",
   "metadata": {},
   "outputs": [
    {
     "name": "stdout",
     "output_type": "stream",
     "text": [
      "False\n",
      "True\n",
      "True\n"
     ]
    }
   ],
   "source": [
    "#Logical Expressions\n",
    "a = (14 == 5) \n",
    "b = (8 > 4) \n",
    "P = a and b \n",
    "Q = a or b\n",
    "R = not a \n",
    "print(P) \n",
    "print(Q) \n",
    "print(R)"
   ]
  },
  {
   "cell_type": "code",
   "execution_count": 12,
   "id": "e323a1a9-5d8f-439f-bb9e-0c8ac23325b9",
   "metadata": {},
   "outputs": [
    {
     "name": "stdout",
     "output_type": "stream",
     "text": [
      "9\n",
      "13\n",
      "-10\n",
      "4\n",
      "18\n",
      "72\n",
      "4\n",
      "1\n"
     ]
    }
   ],
   "source": [
    "#Bitwise Expressions\n",
    "a=9 #1001 \n",
    "b=13 #1101 \n",
    "print(a&b) #1001\n",
    "print(a|b) #1101\n",
    "print(~a) \n",
    "print(a ^ b) #0100  XOR - If both operands are 0 and 1 then, result is 0. \n",
    "print(a << 1) \n",
    "print(a << 3)\n",
    "print(a >> 1) \n",
    "print(a >> 3)"
   ]
  },
  {
   "cell_type": "code",
   "execution_count": 13,
   "id": "16de56d7-6c44-40d0-a7d5-57aff58ef737",
   "metadata": {},
   "outputs": [
    {
     "name": "stdout",
     "output_type": "stream",
     "text": [
      "21\n"
     ]
    }
   ],
   "source": [
    "#Combinational Expressions\n",
    "a = 15\n",
    "b = 12\n",
    "c = a + (b >> 1)\n",
    "print(c)"
   ]
  },
  {
   "cell_type": "code",
   "execution_count": null,
   "id": "e3ffae4b-a26a-49ce-8e01-2eb8ea86e248",
   "metadata": {},
   "outputs": [],
   "source": []
  }
 ],
 "metadata": {
  "kernelspec": {
   "display_name": "Python 3 (ipykernel)",
   "language": "python",
   "name": "python3"
  },
  "language_info": {
   "codemirror_mode": {
    "name": "ipython",
    "version": 3
   },
   "file_extension": ".py",
   "mimetype": "text/x-python",
   "name": "python",
   "nbconvert_exporter": "python",
   "pygments_lexer": "ipython3",
   "version": "3.11.7"
  }
 },
 "nbformat": 4,
 "nbformat_minor": 5
}
