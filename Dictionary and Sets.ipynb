{
 "cells": [
  {
   "cell_type": "code",
   "execution_count": 3,
   "id": "48a7a54d-c069-4611-afcf-0b2ec36b1591",
   "metadata": {},
   "outputs": [
    {
     "name": "stdout",
     "output_type": "stream",
     "text": [
      "{} <class 'dict'>\n"
     ]
    }
   ],
   "source": [
    "#creating dictionary\n",
    "dict={}\n",
    "print(dict,type(dict))"
   ]
  },
  {
   "cell_type": "code",
   "execution_count": 7,
   "id": "d5580672-7555-410c-86d9-7e3c397a4756",
   "metadata": {},
   "outputs": [
    {
     "name": "stdout",
     "output_type": "stream",
     "text": [
      "{1: 'Apple', 2: 'O', 3: 1}\n"
     ]
    }
   ],
   "source": [
    "dict={1:'Apple',2:'O',3:1}\n",
    "print(dict)"
   ]
  },
  {
   "cell_type": "code",
   "execution_count": 5,
   "id": "cc507f89-1120-464f-8510-ebe891423745",
   "metadata": {},
   "outputs": [
    {
     "name": "stdout",
     "output_type": "stream",
     "text": [
      "{'apple': 1, 'dog': 2, 'cat': 3, 'vampire': 4}\n"
     ]
    }
   ],
   "source": [
    "dict1={'apple':1,'dog':2,'cat':3,'vampire':4}\n",
    "print(dict1)"
   ]
  },
  {
   "cell_type": "code",
   "execution_count": 2,
   "id": "266fcb1c-a00e-4ba1-a6f5-128d2c5d6162",
   "metadata": {},
   "outputs": [
    {
     "name": "stdout",
     "output_type": "stream",
     "text": [
      "{'apple': 1, 'dog': 2, 'cat': 3, 'vampire': 4}\n"
     ]
    }
   ],
   "source": [
    "#create dictionary using dict method\n",
    "d1= dict({'apple':1,'dog':2,'cat':3,'vampire':4})\n",
    "print(d1)"
   ]
  },
  {
   "cell_type": "code",
   "execution_count": 5,
   "id": "d182aeeb-5554-4ce7-8d1c-3d0da69dfd1d",
   "metadata": {},
   "outputs": [
    {
     "name": "stdout",
     "output_type": "stream",
     "text": [
      "{'name': {'first': 'Keerthi', 'last': 'K'}, 'age': 30, 'profession': 'engineer'}\n"
     ]
    }
   ],
   "source": [
    "nest_dict={'name':{'first':'Keerthi','last':'K'},'age':30,'profession':'engineer'}\n",
    "print(nest_dict)"
   ]
  },
  {
   "cell_type": "code",
   "execution_count": 8,
   "id": "36cac6d7-c3e3-40d2-8f1f-c25b6619956c",
   "metadata": {},
   "outputs": [
    {
     "name": "stdout",
     "output_type": "stream",
     "text": [
      "{1: 'Apple', 2: 'O', 3: 1, 4: 'Keerthi'}\n"
     ]
    }
   ],
   "source": [
    "#Add values to dictionary\n",
    "dict[4]='Keerthi'\n",
    "print(dict)"
   ]
  },
  {
   "cell_type": "code",
   "execution_count": 9,
   "id": "bb9a9209-cdc4-4daa-8bbe-7078cf12d2c6",
   "metadata": {},
   "outputs": [
    {
     "name": "stdout",
     "output_type": "stream",
     "text": [
      "{1: 'Apple', 2: 'O', 3: 1, 4: 'Keerthi', 5: ('How', 'I', 'are', 'you')}\n"
     ]
    }
   ],
   "source": [
    "#Add a tuple to the dictionary\n",
    "dict[5]=('How','I','are','you')\n",
    "print(dict)"
   ]
  },
  {
   "cell_type": "code",
   "execution_count": 10,
   "id": "220502c9-8fa2-4d22-b4bc-7243e308cc22",
   "metadata": {},
   "outputs": [
    {
     "data": {
      "text/plain": [
       "('How', 'I', 'are', 'you')"
      ]
     },
     "execution_count": 10,
     "metadata": {},
     "output_type": "execute_result"
    }
   ],
   "source": [
    "dict[5]"
   ]
  },
  {
   "cell_type": "code",
   "execution_count": 11,
   "id": "18a9c66e-4bf3-4bb3-abbc-f397cfcd3331",
   "metadata": {},
   "outputs": [
    {
     "data": {
      "text/plain": [
       "'O'"
      ]
     },
     "execution_count": 11,
     "metadata": {},
     "output_type": "execute_result"
    }
   ],
   "source": [
    "dict.get(2)"
   ]
  },
  {
   "cell_type": "code",
   "execution_count": 14,
   "id": "804bc32a-9840-4cca-889f-d4624352b349",
   "metadata": {},
   "outputs": [
    {
     "data": {
      "text/plain": [
       "'Apple'"
      ]
     },
     "execution_count": 14,
     "metadata": {},
     "output_type": "execute_result"
    }
   ],
   "source": [
    "dict.pop(1)"
   ]
  },
  {
   "cell_type": "code",
   "execution_count": 15,
   "id": "ceaa5413-3daf-4916-a40d-f6aa02e0fade",
   "metadata": {},
   "outputs": [
    {
     "name": "stdout",
     "output_type": "stream",
     "text": [
      "{2: 'O', 3: 1, 4: 'Keerthi', 5: ('How', 'I', 'are', 'you')}\n"
     ]
    }
   ],
   "source": [
    "print(dict)"
   ]
  },
  {
   "cell_type": "code",
   "execution_count": 16,
   "id": "4f4c5e91-a943-4dc2-9357-7d65b693b44f",
   "metadata": {},
   "outputs": [
    {
     "data": {
      "text/plain": [
       "(5, ('How', 'I', 'are', 'you'))"
      ]
     },
     "execution_count": 16,
     "metadata": {},
     "output_type": "execute_result"
    }
   ],
   "source": [
    "dict.popitem()"
   ]
  },
  {
   "cell_type": "code",
   "execution_count": 18,
   "id": "0f094912-4b78-45f6-91d0-30e8173e756e",
   "metadata": {},
   "outputs": [
    {
     "name": "stdout",
     "output_type": "stream",
     "text": [
      "{2: 'O', 3: 1, 4: 'Keerthi'}\n"
     ]
    }
   ],
   "source": [
    "print(dict)"
   ]
  },
  {
   "cell_type": "code",
   "execution_count": 19,
   "id": "f26464b4-6def-49bc-a872-36c6fdb51a5d",
   "metadata": {},
   "outputs": [
    {
     "data": {
      "text/plain": [
       "dict_values(['O', 1, 'Keerthi'])"
      ]
     },
     "execution_count": 19,
     "metadata": {},
     "output_type": "execute_result"
    }
   ],
   "source": [
    "#In-built functions\n",
    "dict.values()"
   ]
  },
  {
   "cell_type": "code",
   "execution_count": 20,
   "id": "f7ff20cf-df5f-4156-813f-6be0e2d75e4e",
   "metadata": {},
   "outputs": [
    {
     "data": {
      "text/plain": [
       "{'c': 1, 'a': 1, 'b': 1}"
      ]
     },
     "execution_count": 20,
     "metadata": {},
     "output_type": "execute_result"
    }
   ],
   "source": [
    "keys={'a','b','c'}\n",
    "value=1\n",
    "dict.fromkeys(keys,value)"
   ]
  },
  {
   "cell_type": "code",
   "execution_count": 21,
   "id": "b014db0c-7a68-421d-a4d1-e712747d21ac",
   "metadata": {},
   "outputs": [],
   "source": [
    "dict.clear()"
   ]
  },
  {
   "cell_type": "code",
   "execution_count": 22,
   "id": "89f0ad46-df65-4853-8bda-426386957414",
   "metadata": {},
   "outputs": [
    {
     "name": "stdout",
     "output_type": "stream",
     "text": [
      "{}\n"
     ]
    }
   ],
   "source": [
    "print(dict)"
   ]
  },
  {
   "cell_type": "code",
   "execution_count": 1,
   "id": "6e153a4b-28f2-4215-80f9-d576eaa783c4",
   "metadata": {},
   "outputs": [
    {
     "name": "stdout",
     "output_type": "stream",
     "text": [
      "{1, 2, 3, 4}\n",
      "<class 'set'>\n"
     ]
    }
   ],
   "source": [
    "#SETS\n",
    "s=set([1,2,3,4])\n",
    "print(s)\n",
    "print(type(s))"
   ]
  },
  {
   "cell_type": "code",
   "execution_count": 25,
   "id": "77e682a5-8b91-49ed-9b0f-215822219d4a",
   "metadata": {},
   "outputs": [
    {
     "name": "stdout",
     "output_type": "stream",
     "text": [
      "{1, 2, 3, 4}\n"
     ]
    }
   ],
   "source": [
    "#what if i enter duplicate values\n",
    "dup=set([1,1,3,2,4,1])\n",
    "print(dup)"
   ]
  },
  {
   "cell_type": "code",
   "execution_count": 26,
   "id": "67896944-33ba-45e4-b270-816411eb3381",
   "metadata": {},
   "outputs": [
    {
     "name": "stdout",
     "output_type": "stream",
     "text": [
      "{1, 2, 3, 4, 'a'}\n"
     ]
    }
   ],
   "source": [
    "s.add('a')\n",
    "print(s)"
   ]
  },
  {
   "cell_type": "code",
   "execution_count": 27,
   "id": "13d5f4ef-252a-4479-84bb-ba7210a4a1d7",
   "metadata": {},
   "outputs": [
    {
     "name": "stdout",
     "output_type": "stream",
     "text": [
      "frozenset({1, 2, 3, 4})\n"
     ]
    }
   ],
   "source": [
    "#frozen sets\n",
    "fs=frozenset([1,2,3,4])\n",
    "print(fs)"
   ]
  },
  {
   "cell_type": "code",
   "execution_count": 28,
   "id": "b5eb1554-ccb7-46aa-9cbb-5cc27b2c2ef9",
   "metadata": {},
   "outputs": [
    {
     "ename": "AttributeError",
     "evalue": "'frozenset' object has no attribute 'add'",
     "output_type": "error",
     "traceback": [
      "\u001b[1;31m---------------------------------------------------------------------------\u001b[0m",
      "\u001b[1;31mAttributeError\u001b[0m                            Traceback (most recent call last)",
      "Cell \u001b[1;32mIn[28], line 1\u001b[0m\n\u001b[1;32m----> 1\u001b[0m fs\u001b[38;5;241m.\u001b[39madd(\u001b[38;5;124m'\u001b[39m\u001b[38;5;124ma\u001b[39m\u001b[38;5;124m'\u001b[39m)\n",
      "\u001b[1;31mAttributeError\u001b[0m: 'frozenset' object has no attribute 'add'"
     ]
    }
   ],
   "source": [
    "fs.add('a')"
   ]
  },
  {
   "cell_type": "code",
   "execution_count": 29,
   "id": "bc17346b-066b-41c8-aea0-a0d94af8f14a",
   "metadata": {},
   "outputs": [
    {
     "data": {
      "text/plain": [
       "{1, 2, 3, 4, 5, 6, 7}"
      ]
     },
     "execution_count": 29,
     "metadata": {},
     "output_type": "execute_result"
    }
   ],
   "source": [
    "s1=set([1,2,3,4])\n",
    "s2=set([5,6,4,7])\n",
    "s1.union(s2)"
   ]
  },
  {
   "cell_type": "code",
   "execution_count": 30,
   "id": "4be74b0a-4a13-4ed2-aa9c-5e5c59bf7d52",
   "metadata": {},
   "outputs": [
    {
     "data": {
      "text/plain": [
       "{1, 2, 3}"
      ]
     },
     "execution_count": 30,
     "metadata": {},
     "output_type": "execute_result"
    }
   ],
   "source": [
    "s1=set([1,2,3,4])\n",
    "s2=set([5,6,4,7])\n",
    "s1.difference(s2)"
   ]
  },
  {
   "cell_type": "code",
   "execution_count": 31,
   "id": "48e98654-fe5c-4361-9a20-a5a56bb4ad12",
   "metadata": {},
   "outputs": [
    {
     "data": {
      "text/plain": [
       "{5, 6, 7}"
      ]
     },
     "execution_count": 31,
     "metadata": {},
     "output_type": "execute_result"
    }
   ],
   "source": [
    "s2.difference(s1)"
   ]
  },
  {
   "cell_type": "code",
   "execution_count": 32,
   "id": "d51ef1fe-ba55-4886-88c9-2d4965603b39",
   "metadata": {},
   "outputs": [
    {
     "data": {
      "text/plain": [
       "False"
      ]
     },
     "execution_count": 32,
     "metadata": {},
     "output_type": "execute_result"
    }
   ],
   "source": [
    "s1==s2"
   ]
  },
  {
   "cell_type": "code",
   "execution_count": 33,
   "id": "89983599-b8ec-4e3d-9e07-684964ef29cd",
   "metadata": {},
   "outputs": [
    {
     "data": {
      "text/plain": [
       "False"
      ]
     },
     "execution_count": 33,
     "metadata": {},
     "output_type": "execute_result"
    }
   ],
   "source": [
    "s1>s2"
   ]
  },
  {
   "cell_type": "code",
   "execution_count": 36,
   "id": "a7ae1758-b60b-443d-83ab-fc0d970dcfeb",
   "metadata": {},
   "outputs": [
    {
     "data": {
      "text/plain": [
       "True"
      ]
     },
     "execution_count": 36,
     "metadata": {},
     "output_type": "execute_result"
    }
   ],
   "source": [
    "1 in s1"
   ]
  },
  {
   "cell_type": "code",
   "execution_count": 37,
   "id": "dcd55f60-3f18-4ee8-99b6-e65a256faef5",
   "metadata": {},
   "outputs": [
    {
     "data": {
      "text/plain": [
       "False"
      ]
     },
     "execution_count": 37,
     "metadata": {},
     "output_type": "execute_result"
    }
   ],
   "source": [
    "1 not in s1"
   ]
  },
  {
   "cell_type": "code",
   "execution_count": 38,
   "id": "7ea724b7-bfe4-477b-920b-1312b8857531",
   "metadata": {},
   "outputs": [
    {
     "data": {
      "text/plain": [
       "{1, 2, 3, 5, 6, 7}"
      ]
     },
     "execution_count": 38,
     "metadata": {},
     "output_type": "execute_result"
    }
   ],
   "source": [
    "s1 ^ s2"
   ]
  },
  {
   "cell_type": "code",
   "execution_count": null,
   "id": "e92de0ac-44b3-4e8c-a321-3485786a1910",
   "metadata": {},
   "outputs": [],
   "source": []
  }
 ],
 "metadata": {
  "kernelspec": {
   "display_name": "Python 3 (ipykernel)",
   "language": "python",
   "name": "python3"
  },
  "language_info": {
   "codemirror_mode": {
    "name": "ipython",
    "version": 3
   },
   "file_extension": ".py",
   "mimetype": "text/x-python",
   "name": "python",
   "nbconvert_exporter": "python",
   "pygments_lexer": "ipython3",
   "version": "3.11.7"
  }
 },
 "nbformat": 4,
 "nbformat_minor": 5
}
