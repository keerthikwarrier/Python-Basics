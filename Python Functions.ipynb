{
 "cells": [
  {
   "cell_type": "code",
   "execution_count": 1,
   "id": "8db0b2b5-99b6-4c81-b7c1-d907054d1b0d",
   "metadata": {},
   "outputs": [],
   "source": [
    "#Defining Functions\n",
    "def welcome():\n",
    "    print(\"Good morning\")"
   ]
  },
  {
   "cell_type": "code",
   "execution_count": 5,
   "id": "f99ada86-70c6-4a59-bcbc-3e35a8db5b7f",
   "metadata": {},
   "outputs": [
    {
     "name": "stdout",
     "output_type": "stream",
     "text": [
      "36\n"
     ]
    }
   ],
   "source": [
    "def add(a,b):\n",
    "    total=a*b\n",
    "    print(total)\n",
    "add(9,4)"
   ]
  },
  {
   "cell_type": "code",
   "execution_count": 7,
   "id": "74e92960-5300-4c2d-9eec-68e9641f0c3f",
   "metadata": {},
   "outputs": [
    {
     "name": "stdout",
     "output_type": "stream",
     "text": [
      "a=10  b=0 10\n"
     ]
    }
   ],
   "source": [
    "#if 1 value is passed while calling add function it will result to error. So, to avoid this error we can give 0 as a default value for both a and b. \n",
    "#So, when only 1 value is passed the other value will be taken as 0.\n",
    "\n",
    "def add(a=0,b=0):\n",
    "    total=a+b\n",
    "    print(\"a=%d  b=%d\" %(a,b),total)\n",
    "\n",
    "add(10)"
   ]
  },
  {
   "cell_type": "code",
   "execution_count": 10,
   "id": "322ad800-3bf7-404d-94c0-2d231080d882",
   "metadata": {},
   "outputs": [
    {
     "name": "stdout",
     "output_type": "stream",
     "text": [
      "100\n"
     ]
    }
   ],
   "source": [
    "# If i want the function to pass n number of values not just 1 or 2.\n",
    "def add(*a):\n",
    "    total=0\n",
    "    for i in a:\n",
    "        total=total+i\n",
    "    print(total)\n",
    "\n",
    "add(10,20,30,40)"
   ]
  },
  {
   "cell_type": "code",
   "execution_count": 16,
   "id": "d5a7e226-e135-4567-a7cf-cabe996356ff",
   "metadata": {},
   "outputs": [
    {
     "name": "stdout",
     "output_type": "stream",
     "text": [
      "100\n"
     ]
    }
   ],
   "source": [
    "#Functions using return keyword\n",
    "def add(*a):\n",
    "    total=0\n",
    "    for i in a:\n",
    "        total=total+i\n",
    "    return total\n",
    "\n",
    "total= add(10,20,30,40)\n",
    "print(total)"
   ]
  },
  {
   "cell_type": "code",
   "execution_count": 11,
   "id": "be093728-6f0e-4e90-b85a-3207acc6fb3e",
   "metadata": {},
   "outputs": [
    {
     "data": {
      "text/plain": [
       "200"
      ]
     },
     "execution_count": 11,
     "metadata": {},
     "output_type": "execute_result"
    }
   ],
   "source": [
    "#Lambda functions\n",
    "fun=lambda a,b:a*b\n",
    "fun(10,20)"
   ]
  },
  {
   "cell_type": "code",
   "execution_count": null,
   "id": "924ab0a4-77a4-4b15-9836-64b38499012d",
   "metadata": {},
   "outputs": [],
   "source": []
  }
 ],
 "metadata": {
  "kernelspec": {
   "display_name": "Python 3 (ipykernel)",
   "language": "python",
   "name": "python3"
  },
  "language_info": {
   "codemirror_mode": {
    "name": "ipython",
    "version": 3
   },
   "file_extension": ".py",
   "mimetype": "text/x-python",
   "name": "python",
   "nbconvert_exporter": "python",
   "pygments_lexer": "ipython3",
   "version": "3.11.7"
  }
 },
 "nbformat": 4,
 "nbformat_minor": 5
}
