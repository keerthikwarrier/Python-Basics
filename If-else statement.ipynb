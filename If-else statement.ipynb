{
 "cells": [
  {
   "cell_type": "raw",
   "id": "de29c670-9e95-4f0f-8094-f829c1a93fcd",
   "metadata": {},
   "source": [
    "If "
   ]
  },
  {
   "cell_type": "code",
   "execution_count": 5,
   "id": "2158f3d3-2709-4996-8550-aecbe7d10641",
   "metadata": {},
   "outputs": [
    {
     "name": "stdout",
     "output_type": "stream",
     "text": [
      "number is greater than 5\n",
      "outside the if statement\n"
     ]
    }
   ],
   "source": [
    "x=7\n",
    "if x>5:\n",
    "    print(\"number is greater than 5\")\n",
    "print(\"outside the if statement\")"
   ]
  },
  {
   "cell_type": "raw",
   "id": "d70f2050-d050-47ef-b475-a735b8afe20d",
   "metadata": {},
   "source": [
    "If else"
   ]
  },
  {
   "cell_type": "code",
   "execution_count": 3,
   "id": "d3f03ab7-ce2d-4f48-b0e2-05368455fb11",
   "metadata": {},
   "outputs": [
    {
     "name": "stdout",
     "output_type": "stream",
     "text": [
      "number is less than 5\n"
     ]
    }
   ],
   "source": [
    "x=3\n",
    "if x>5:\n",
    "    print(\"number is greater than 5\")\n",
    "else:\n",
    "    print(\"number is less than 5\")"
   ]
  },
  {
   "cell_type": "raw",
   "id": "19ac586c-3239-4f39-b94a-5c21cf2ffbd3",
   "metadata": {},
   "source": [
    "Nested If"
   ]
  },
  {
   "cell_type": "code",
   "execution_count": 2,
   "id": "f857af20-a266-4b1c-b2a7-7cad9c2475e5",
   "metadata": {},
   "outputs": [
    {
     "name": "stdout",
     "output_type": "stream",
     "text": [
      "c is greater than 30\n"
     ]
    }
   ],
   "source": [
    "c=50\n",
    "if c<30:\n",
    "    if c%2==0:\n",
    "        print(\"c is an even number less than 30\")\n",
    "    else:\n",
    "        print(\"c is an odd number less than 30\")\n",
    "else:\n",
    "    print(\"c is greater than 30\")"
   ]
  },
  {
   "cell_type": "raw",
   "id": "85c0e518-decb-4451-9a28-6188df10534f",
   "metadata": {},
   "source": [
    "If-elif-else "
   ]
  },
  {
   "cell_type": "code",
   "execution_count": 5,
   "id": "969bcaa6-336b-4252-8a6e-567ac467d744",
   "metadata": {},
   "outputs": [
    {
     "name": "stdout",
     "output_type": "stream",
     "text": [
      "c is equal to 100\n"
     ]
    }
   ],
   "source": [
    "c=100\n",
    "if c<100:\n",
    "    print(\"c is lesser than 100\")\n",
    "elif c>100:\n",
    "     print(\"c is greater than 100\")\n",
    "else:\n",
    "    print(\"c is equal to 100\")"
   ]
  },
  {
   "cell_type": "code",
   "execution_count": 7,
   "id": "e736ee2d-7c25-4f76-9b99-f17a6f193601",
   "metadata": {},
   "outputs": [
    {
     "name": "stdout",
     "output_type": "stream",
     "text": [
      "b is the greatest\n"
     ]
    }
   ],
   "source": [
    "a=10\n",
    "b=30\n",
    "c=20\n",
    "if a>b and a>c:\n",
    "    print(\"a is the greatest\")\n",
    "elif b>c:\n",
    "    print(\"b is the greatest\")\n",
    "else:\n",
    "    print(\"c is the greatest\")"
   ]
  },
  {
   "cell_type": "code",
   "execution_count": 20,
   "id": "518c9254-80bd-49e6-b47d-e85ecf044299",
   "metadata": {},
   "outputs": [
    {
     "name": "stdout",
     "output_type": "stream",
     "text": [
      "N is divisible by 3\n",
      "N is divisible by 5\n"
     ]
    }
   ],
   "source": [
    "N=15\n",
    "count=0\n",
    "if N%2==0:\n",
    "    print(\"N is divisible by 2\")\n",
    "    count+=1\n",
    "if N%3==0:\n",
    "    print(\"N is divisible by 3\")\n",
    "    count+=1\n",
    "if N%5==0:\n",
    "    print(\"N is divisible by 5\")\n",
    "    count+=1\n",
    "if count==0:\n",
    "    print(\"N is not divisible by 2, 3 or 5\")"
   ]
  },
  {
   "cell_type": "code",
   "execution_count": 10,
   "id": "842be5db-a59d-443e-919c-20f2c01ecd24",
   "metadata": {},
   "outputs": [
    {
     "name": "stdout",
     "output_type": "stream",
     "text": [
      "N is divisible by 2, 3 or 5\n"
     ]
    }
   ],
   "source": [
    "N=15\n",
    "if N%2==0 or N%3==0 or N%5==0:\n",
    "    print(\"N is divisible by 2, 3 or 5\")"
   ]
  },
  {
   "cell_type": "code",
   "execution_count": null,
   "id": "c1634a4e-70fc-474b-afc9-8ec6d51e6523",
   "metadata": {},
   "outputs": [],
   "source": []
  }
 ],
 "metadata": {
  "kernelspec": {
   "display_name": "Python 3 (ipykernel)",
   "language": "python",
   "name": "python3"
  },
  "language_info": {
   "codemirror_mode": {
    "name": "ipython",
    "version": 3
   },
   "file_extension": ".py",
   "mimetype": "text/x-python",
   "name": "python",
   "nbconvert_exporter": "python",
   "pygments_lexer": "ipython3",
   "version": "3.11.7"
  }
 },
 "nbformat": 4,
 "nbformat_minor": 5
}
