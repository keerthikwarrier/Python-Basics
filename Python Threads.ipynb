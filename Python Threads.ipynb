{
 "cells": [
  {
   "cell_type": "code",
   "execution_count": 1,
   "id": "bf2f7644-b11c-4e22-bf89-bda49f76fb41",
   "metadata": {},
   "outputs": [
    {
     "name": "stdout",
     "output_type": "stream",
     "text": [
      "This is a child thread\n",
      "This is a parent thread\n"
     ]
    }
   ],
   "source": [
    "#If we don't use threads both the print statements are running in the same thread or same CPU\n",
    "print(\"This is a child thread\")\n",
    "print(\"This is a parent thread\")"
   ]
  },
  {
   "cell_type": "code",
   "execution_count": 9,
   "id": "264b259d-11f1-46c8-9c7f-642b0d0fe76f",
   "metadata": {},
   "outputs": [
    {
     "name": "stdout",
     "output_type": "stream",
     "text": [
      "This is a child thread\n",
      "This is a parent thread\n"
     ]
    }
   ],
   "source": [
    "#Now let's use threads in 2 different ways\n",
    "#1st way\n",
    "from threading import *\n",
    "def show():\n",
    "    print(\"This is a child thread\")\n",
    "#Now anything inside the show() is running in the t thread\n",
    "t=Thread(target=show())\n",
    "t.start()\n",
    "\n",
    "#anything outside the show() is running in different thread\n",
    "print(\"This is a parent thread\")\n"
   ]
  },
  {
   "cell_type": "code",
   "execution_count": 6,
   "id": "f9251e94-4303-4a78-8dd2-6dcd48292df6",
   "metadata": {},
   "outputs": [
    {
     "name": "stdout",
     "output_type": "stream",
     "text": [
      "This is a child thread\n",
      "\n",
      "This is a child thread\n",
      "\n",
      "This is a child thread\n",
      "\n",
      "This is a child thread\n",
      "\n",
      "This is a child thread\n",
      "\n",
      "This is main thread\n",
      "\n",
      "This is main thread\n",
      "\n",
      "This is main thread\n",
      "\n",
      "This is main thread\n",
      "\n",
      "This is main thread\n",
      "\n"
     ]
    }
   ],
   "source": [
    "#2nd way\n",
    "from threading import *\n",
    "#MyThread is child class which is user-defined. MyThread inherits The Parent Class Thread which is a pre-defined class\n",
    "class MyThread(Thread):\n",
    "    def run(self):\n",
    "        for i in range(5):\n",
    "            print(\"This is a child thread\\n\")\n",
    "\n",
    "t=MyThread()\n",
    "t.start()\n",
    "for i in range(5):\n",
    "    print(\"This is main thread\\n\")"
   ]
  },
  {
   "cell_type": "code",
   "execution_count": 8,
   "id": "8b16ba34-32c6-4b34-b008-8f18589f73c1",
   "metadata": {},
   "outputs": [
    {
     "name": "stdout",
     "output_type": "stream",
     "text": [
      "This is a child thread\n",
      "\n",
      "This is a child thread\n",
      "\n",
      "This is a child thread\n",
      "\n",
      "This is a child thread\n",
      "\n",
      "This is a child thread\n",
      "\n",
      "This is main thread\n",
      "\n",
      "This is main thread\n",
      "\n",
      "This is main thread\n",
      "\n",
      "This is main thread\n",
      "\n",
      "This is main thread\n",
      "\n"
     ]
    }
   ],
   "source": [
    "#3rd way\n",
    "from threading import *\n",
    "class DemoThread:\n",
    "       def run(self):\n",
    "        for i in range(5):\n",
    "            print(\"This is a child thread\\n\")\n",
    "\n",
    "#Now anything inside the run() is running in the t thread\n",
    "obj=DemoThread()\n",
    "t=Thread(target=obj.run())\n",
    "t.start()\n",
    "\n",
    "#anything outside the run() is running in different thread\n",
    "for i in range(5):\n",
    "    print(\"This is main thread\\n\")"
   ]
  },
  {
   "cell_type": "code",
   "execution_count": 20,
   "id": "0268f4fd-08be-4d3f-89d3-e3bfbf6a44a8",
   "metadata": {},
   "outputs": [
    {
     "name": "stdout",
     "output_type": "stream",
     "text": [
      "The number is:   1\n",
      "The number is:   2\n",
      "The number is:   3\n",
      "The number is:   4\n",
      "The number is:   5\n",
      "Double of number:  2\n",
      "Double of number:  4\n",
      "Double of number:  6\n",
      "Double of number:  8\n",
      "Double of number:  10\n",
      "Square of number:  1\n",
      "Square of number:  4\n",
      "Square of number:  9\n",
      "Square of number:  16\n",
      "Square of number:  25\n",
      "This is the main thread\n"
     ]
    }
   ],
   "source": [
    "#MutliThreading\n",
    "from threading import *\n",
    "import time\n",
    "class Number(Thread):\n",
    "\n",
    "    def printNum(self):\n",
    "        for i in range(1,6):\n",
    "            print(\"The number is:  \", i)\n",
    "            time.sleep(1)\n",
    "\n",
    "    def Double(self):\n",
    "        for i in range(1,6):\n",
    "            double= i * 2\n",
    "            print(\"Double of number: \", double)  \n",
    "            time.sleep(1)\n",
    "\n",
    "    def Square(self):\n",
    "        for i in range(1,6):\n",
    "            square= i * i\n",
    "            print(\"Square of number: \", square)\n",
    "            time.sleep(1)\n",
    "      \n",
    "\n",
    "obj=Number()\n",
    "t=Thread(target=obj.printNum())\n",
    "t1=Thread(target=obj.Double())\n",
    "t2=Thread(target=obj.Square())\n",
    "t.start()\n",
    "time.sleep(0.2)\n",
    "t1.start()\n",
    "time.sleep(0.2)\n",
    "t2.start()\n",
    "\n",
    "t.join()\n",
    "t1.join()\n",
    "t2.join()\n",
    "\n",
    "print(\"This is the main thread\")"
   ]
  },
  {
   "cell_type": "code",
   "execution_count": null,
   "id": "3a5f4f93-460b-4d3a-9673-d23f1b38e9d0",
   "metadata": {},
   "outputs": [],
   "source": []
  }
 ],
 "metadata": {
  "kernelspec": {
   "display_name": "Python 3 (ipykernel)",
   "language": "python",
   "name": "python3"
  },
  "language_info": {
   "codemirror_mode": {
    "name": "ipython",
    "version": 3
   },
   "file_extension": ".py",
   "mimetype": "text/x-python",
   "name": "python",
   "nbconvert_exporter": "python",
   "pygments_lexer": "ipython3",
   "version": "3.11.7"
  }
 },
 "nbformat": 4,
 "nbformat_minor": 5
}
