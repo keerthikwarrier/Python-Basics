{
 "cells": [
  {
   "cell_type": "code",
   "execution_count": 1,
   "id": "d33df8cb-51c1-4e61-abf8-560e995df928",
   "metadata": {},
   "outputs": [],
   "source": [
    "from array import *"
   ]
  },
  {
   "cell_type": "code",
   "execution_count": 6,
   "id": "d3767ee9-6179-49f7-83c3-3a183ea13fef",
   "metadata": {},
   "outputs": [
    {
     "ename": "OverflowError",
     "evalue": "can't convert negative value to unsigned int",
     "output_type": "error",
     "traceback": [
      "\u001b[1;31m---------------------------------------------------------------------------\u001b[0m",
      "\u001b[1;31mOverflowError\u001b[0m                             Traceback (most recent call last)",
      "Cell \u001b[1;32mIn[6], line 1\u001b[0m\n\u001b[1;32m----> 1\u001b[0m arr\u001b[38;5;241m=\u001b[39marray(\u001b[38;5;124m'\u001b[39m\u001b[38;5;124mI\u001b[39m\u001b[38;5;124m'\u001b[39m,[\u001b[38;5;241m-\u001b[39m\u001b[38;5;241m1\u001b[39m,\u001b[38;5;241m2\u001b[39m,\u001b[38;5;241m3\u001b[39m,\u001b[38;5;241m4\u001b[39m,\u001b[38;5;241m5\u001b[39m])\n",
      "\u001b[1;31mOverflowError\u001b[0m: can't convert negative value to unsigned int"
     ]
    }
   ],
   "source": [
    "arr=array('I',[-1,2,3,4,5]) #I means unsigned int (cannot hold negative values)"
   ]
  },
  {
   "cell_type": "code",
   "execution_count": 10,
   "id": "87c7b0cc-1d4e-4f90-8efe-2be9c1031bda",
   "metadata": {},
   "outputs": [
    {
     "data": {
      "text/plain": [
       "array('i', [-1, 2, 3, 4, 5])"
      ]
     },
     "execution_count": 10,
     "metadata": {},
     "output_type": "execute_result"
    }
   ],
   "source": [
    "arr=array('i',[-1,2,3,4,5]) #i means signed int (can hold negative values)\n",
    "arr"
   ]
  },
  {
   "cell_type": "code",
   "execution_count": 12,
   "id": "99a69d5d-0f33-4470-bd5d-3ebd3757484d",
   "metadata": {},
   "outputs": [
    {
     "name": "stdout",
     "output_type": "stream",
     "text": [
      "(2264550818448, 5)\n"
     ]
    }
   ],
   "source": [
    "print(arr.buffer_info()) #array_size=5"
   ]
  },
  {
   "cell_type": "code",
   "execution_count": 14,
   "id": "025b03d5-fcfd-456a-acb7-c819416da925",
   "metadata": {},
   "outputs": [
    {
     "name": "stdout",
     "output_type": "stream",
     "text": [
      "5\n"
     ]
    }
   ],
   "source": [
    "print(arr[4])"
   ]
  },
  {
   "cell_type": "code",
   "execution_count": 17,
   "id": "446353e5-8383-4307-a5f4-5715cc84b4f9",
   "metadata": {},
   "outputs": [
    {
     "name": "stdout",
     "output_type": "stream",
     "text": [
      "array('i', [-1, 2, 3, 4, 5])\n"
     ]
    }
   ],
   "source": [
    "#In-built functions\n",
    "arr.reverse()\n",
    "print(arr)"
   ]
  },
  {
   "cell_type": "code",
   "execution_count": 18,
   "id": "de2ef856-b153-48b0-a8d7-46c28cc5b839",
   "metadata": {},
   "outputs": [
    {
     "name": "stdout",
     "output_type": "stream",
     "text": [
      "array('i', [-1, 2, 3, 4, 5, 9])\n"
     ]
    }
   ],
   "source": [
    "arr.append(9)\n",
    "print(arr)"
   ]
  },
  {
   "cell_type": "code",
   "execution_count": 19,
   "id": "d8c14a6f-1928-4322-9bc9-9a89e6155d5c",
   "metadata": {},
   "outputs": [
    {
     "name": "stdout",
     "output_type": "stream",
     "text": [
      "array('i', [-1, 3, 4, 5, 9])\n"
     ]
    }
   ],
   "source": [
    "arr.remove(2) # if there are more than one 2, it will remove first 2\n",
    "print(arr)"
   ]
  },
  {
   "cell_type": "code",
   "execution_count": 3,
   "id": "79974c4a-a00f-4ff3-a9e1-4a19d2b91e70",
   "metadata": {},
   "outputs": [
    {
     "name": "stdout",
     "output_type": "stream",
     "text": [
      "-1 the elements\n",
      "2 the elements\n",
      "3 the elements\n",
      "4 the elements\n",
      "5 the elements\n"
     ]
    }
   ],
   "source": [
    "from array import *\n",
    "arr=array('i',[-1,2,3,4,5])\n",
    "for i in arr:\n",
    "    print(\"%d the elements\"%i)"
   ]
  },
  {
   "cell_type": "code",
   "execution_count": 7,
   "id": "45c1514b-080e-435b-83c4-092cd6762e4e",
   "metadata": {},
   "outputs": [
    {
     "name": "stdin",
     "output_type": "stream",
     "text": [
      "Enter the size of the array 5\n",
      " 1\n",
      " 2\n",
      " 2\n",
      " 3\n",
      " 2\n"
     ]
    },
    {
     "name": "stdout",
     "output_type": "stream",
     "text": [
      "array('i', [1, 2, 2, 3, 2])\n"
     ]
    }
   ],
   "source": [
    "#Ask the user to enter the numbers\n",
    "X=int(input(\"Enter the size of the array\"))\n",
    "arr=array('i',[])\n",
    "for i in range(X):\n",
    "    n=int(input())\n",
    "    arr.append(n)\n",
    "print(arr)"
   ]
  },
  {
   "cell_type": "code",
   "execution_count": 8,
   "id": "e36d597e-c2e3-4ddd-ba30-9c338a8cf0b1",
   "metadata": {},
   "outputs": [
    {
     "name": "stdout",
     "output_type": "stream",
     "text": [
      "array('i', [1, 2, 3])\n"
     ]
    }
   ],
   "source": [
    "#if 2 numbers are the same, 2nd one is deleted\n",
    "i=0\n",
    "while i<X-1:\n",
    "    j=i+1\n",
    "    while j<X:\n",
    "        if arr[i]==arr[j]:\n",
    "            del arr[j]\n",
    "            X-=1\n",
    "        j+=1\n",
    "    i+=1\n",
    "print(arr)"
   ]
  },
  {
   "cell_type": "code",
   "execution_count": 11,
   "id": "412f2c73-f685-4c6c-af65-ee75162b360a",
   "metadata": {},
   "outputs": [
    {
     "name": "stdout",
     "output_type": "stream",
     "text": [
      "[1, 2, 3, 4]\n"
     ]
    }
   ],
   "source": [
    "#Lists\n",
    "num=[1,2,3,4]\n",
    "print(num)"
   ]
  },
  {
   "cell_type": "code",
   "execution_count": 6,
   "id": "325b604d-c40e-4205-9ea1-cd0449fc58e4",
   "metadata": {},
   "outputs": [
    {
     "name": "stdout",
     "output_type": "stream",
     "text": [
      "['a', 'b', 'c', 'd']\n"
     ]
    }
   ],
   "source": [
    "letters=['a','b','c','d']\n",
    "print(letters)"
   ]
  },
  {
   "cell_type": "code",
   "execution_count": 7,
   "id": "6e2bebff-2c45-46ce-90c3-4e80bafef969",
   "metadata": {},
   "outputs": [
    {
     "name": "stdout",
     "output_type": "stream",
     "text": [
      "['keerthi', 'kk', 'anu', 'bye']\n"
     ]
    }
   ],
   "source": [
    "str=['keerthi','kk','anu','bye']\n",
    "print(str)"
   ]
  },
  {
   "cell_type": "code",
   "execution_count": 29,
   "id": "775cbc5c-1902-4494-bd51-5fd0b3fb237a",
   "metadata": {},
   "outputs": [
    {
     "name": "stdout",
     "output_type": "stream",
     "text": [
      "[1, 'd', 'keerthi', 'A', 2.3]\n"
     ]
    }
   ],
   "source": [
    "mix=[1,'d','keerthi','A',2.3]\n",
    "print(mix)"
   ]
  },
  {
   "cell_type": "code",
   "execution_count": 30,
   "id": "d174ac52-93bf-485d-a3d6-842476a0ce0c",
   "metadata": {},
   "outputs": [
    {
     "data": {
      "text/plain": [
       "[1, 'd', 'keerthi']"
      ]
     },
     "execution_count": 30,
     "metadata": {},
     "output_type": "execute_result"
    }
   ],
   "source": [
    "mix[:3]"
   ]
  },
  {
   "cell_type": "code",
   "execution_count": 31,
   "id": "eb2fde0c-24b7-4fa7-a1af-5e44699b7658",
   "metadata": {},
   "outputs": [
    {
     "data": {
      "text/plain": [
       "['A', 2.3]"
      ]
     },
     "execution_count": 31,
     "metadata": {},
     "output_type": "execute_result"
    }
   ],
   "source": [
    "mix[3:]"
   ]
  },
  {
   "cell_type": "code",
   "execution_count": 32,
   "id": "a04080ba-8507-4a11-9107-b92840af7cc1",
   "metadata": {},
   "outputs": [
    {
     "data": {
      "text/plain": [
       "[1, 'keerthi', 2.3]"
      ]
     },
     "execution_count": 32,
     "metadata": {},
     "output_type": "execute_result"
    }
   ],
   "source": [
    "mix[::2]"
   ]
  },
  {
   "cell_type": "code",
   "execution_count": 34,
   "id": "0139a9c5-f9fb-4c24-baff-94ec1eea78d2",
   "metadata": {},
   "outputs": [
    {
     "data": {
      "text/plain": [
       "[2.3, 'A', 'keerthi', 'd', 1]"
      ]
     },
     "execution_count": 34,
     "metadata": {},
     "output_type": "execute_result"
    }
   ],
   "source": [
    "#To print the list in reverse order\n",
    "mix[::-1]"
   ]
  },
  {
   "cell_type": "code",
   "execution_count": 35,
   "id": "b6b0b3d4-ad4b-42d4-841a-e6ba28eb8284",
   "metadata": {},
   "outputs": [
    {
     "data": {
      "text/plain": [
       "['d', 'A']"
      ]
     },
     "execution_count": 35,
     "metadata": {},
     "output_type": "execute_result"
    }
   ],
   "source": [
    "#if you need to get every 2nd element from certain indices\n",
    "mix[1:4:2]"
   ]
  },
  {
   "cell_type": "code",
   "execution_count": 27,
   "id": "647c77db-3d9b-43cf-92d4-8552aeec742c",
   "metadata": {},
   "outputs": [
    {
     "name": "stdout",
     "output_type": "stream",
     "text": [
      "[0, 0, 0, 0, 0, 0, 0, 0, 0, 0, 0, 0, 0, 0, 0, 0, 0, 0, 0, 0, 0, 0, 0, 0, 0, 0, 0, 0, 0, 0, 0, 0, 0, 0, 0, 0, 0, 0, 0, 0, 0, 0, 0, 0, 0, 0, 0, 0, 0, 0, 0, 0, 0, 0, 0, 0, 0, 0, 0, 0, 0, 0, 0, 0, 0, 0, 0, 0, 0, 0, 0, 0, 0, 0, 0, 0, 0, 0, 0, 0, 0, 0, 0, 0, 0, 0, 0, 0, 0, 0, 0, 0, 0, 0, 0, 0, 0, 0, 0, 0]\n"
     ]
    }
   ],
   "source": [
    "#Operations on lists\n",
    "#If you want create a list with 100 0's\n",
    "z=[0]*100\n",
    "print(z)"
   ]
  },
  {
   "cell_type": "code",
   "execution_count": 13,
   "id": "ca2e59bc-9ac5-4c63-84d0-4ba2dc6f1fb1",
   "metadata": {},
   "outputs": [
    {
     "name": "stdout",
     "output_type": "stream",
     "text": [
      "['a', 'b', 'c', 'd']\n"
     ]
    }
   ],
   "source": [
    "print(letters)"
   ]
  },
  {
   "cell_type": "code",
   "execution_count": 5,
   "id": "19d8f7b0-8289-4aba-890a-62043d8abc3f",
   "metadata": {},
   "outputs": [
    {
     "name": "stdout",
     "output_type": "stream",
     "text": [
      "<class 'str'>\n"
     ]
    }
   ],
   "source": [
    "print(str)"
   ]
  },
  {
   "cell_type": "code",
   "execution_count": 16,
   "id": "57028dc8-6c4c-4f21-aec8-f9f8c78ed5d6",
   "metadata": {},
   "outputs": [
    {
     "name": "stdout",
     "output_type": "stream",
     "text": [
      "['a', 'b', 'c', 'd', 'keerthi', 'kk', 'anu', 'bye']\n"
     ]
    }
   ],
   "source": [
    "concat=letters+str\n",
    "print(concat)"
   ]
  },
  {
   "cell_type": "code",
   "execution_count": 17,
   "id": "dcdda4c3-3665-4be7-8a46-34057e4c8797",
   "metadata": {},
   "outputs": [],
   "source": [
    "#seperates string to seperate element\n",
    "var=list(\"hey there\")"
   ]
  },
  {
   "cell_type": "code",
   "execution_count": 18,
   "id": "b06be82f-ee8b-4147-a082-6297be466ee2",
   "metadata": {},
   "outputs": [
    {
     "name": "stdout",
     "output_type": "stream",
     "text": [
      "['h', 'e', 'y', ' ', 't', 'h', 'e', 'r', 'e']\n"
     ]
    }
   ],
   "source": [
    "print(var)"
   ]
  },
  {
   "cell_type": "code",
   "execution_count": 4,
   "id": "c6bd6ae2-a010-4a6d-a427-b66c5b43b972",
   "metadata": {},
   "outputs": [
    {
     "name": "stdout",
     "output_type": "stream",
     "text": [
      "[4, 3, 2, 5, 3, 6]\n"
     ]
    }
   ],
   "source": [
    "#methods in lists\n",
    "num=[4,3,2,5,3]\n",
    "num.append(6)\n",
    "print(num)"
   ]
  },
  {
   "cell_type": "code",
   "execution_count": 9,
   "id": "1165470f-7479-410f-8609-b10d24ddc6a0",
   "metadata": {},
   "outputs": [
    {
     "name": "stdout",
     "output_type": "stream",
     "text": [
      "[4, 3, 2, 5, 3, 6, 'keerthi', 'kk', 'anu', 'bye', 'keerthi', 'kk', 'anu', 'bye']\n"
     ]
    }
   ],
   "source": [
    "num.extend(str)\n",
    "print(num)"
   ]
  },
  {
   "cell_type": "code",
   "execution_count": 10,
   "id": "d38b3152-8e0f-4c59-a822-02aa62dc133b",
   "metadata": {},
   "outputs": [
    {
     "name": "stdout",
     "output_type": "stream",
     "text": [
      "[4, 3, 'None', 2, 5, 3, 6, 'keerthi', 'kk', 'anu', 'bye', 'keerthi', 'kk', 'anu', 'bye']\n"
     ]
    }
   ],
   "source": [
    "num.insert(2,'None')\n",
    "print(num)"
   ]
  },
  {
   "cell_type": "code",
   "execution_count": 11,
   "id": "804a1fa0-2215-4a36-abec-fb77472ea058",
   "metadata": {},
   "outputs": [
    {
     "name": "stdout",
     "output_type": "stream",
     "text": [
      "[4, 3, 2, 5, 3, 6, 'keerthi', 'kk', 'anu', 'bye', 'keerthi', 'kk', 'anu', 'bye']\n"
     ]
    }
   ],
   "source": [
    "num.remove('None')\n",
    "print(num)"
   ]
  },
  {
   "cell_type": "code",
   "execution_count": 15,
   "id": "f387fafa-f54f-4223-a0d0-9e383cddc25d",
   "metadata": {},
   "outputs": [
    {
     "name": "stdout",
     "output_type": "stream",
     "text": [
      "[1, 2, 3, 4, 11, 32]\n"
     ]
    }
   ],
   "source": [
    "num=[1,2,32,11,3,4]\n",
    "num.sort()\n",
    "print(num)"
   ]
  },
  {
   "cell_type": "code",
   "execution_count": 16,
   "id": "e44850c8-5b0d-456d-8d52-b8c1fb1bcfba",
   "metadata": {},
   "outputs": [
    {
     "data": {
      "text/plain": [
       "6"
      ]
     },
     "execution_count": 16,
     "metadata": {},
     "output_type": "execute_result"
    }
   ],
   "source": [
    "#In-built functions\n",
    "X=[23,4,25,23,12,87]\n",
    "len(X)"
   ]
  },
  {
   "cell_type": "code",
   "execution_count": 17,
   "id": "6f33c289-8fa6-4d55-a493-84e7b2ddb8a7",
   "metadata": {},
   "outputs": [
    {
     "data": {
      "text/plain": [
       "4"
      ]
     },
     "execution_count": 17,
     "metadata": {},
     "output_type": "execute_result"
    }
   ],
   "source": [
    "min(X)"
   ]
  },
  {
   "cell_type": "code",
   "execution_count": 18,
   "id": "9b5d4882-1701-4022-957c-987c2cd8e84a",
   "metadata": {},
   "outputs": [
    {
     "data": {
      "text/plain": [
       "87"
      ]
     },
     "execution_count": 18,
     "metadata": {},
     "output_type": "execute_result"
    }
   ],
   "source": [
    "max(X)"
   ]
  },
  {
   "cell_type": "code",
   "execution_count": 19,
   "id": "0be6240e-7b27-4c40-b2bb-6213909c98f7",
   "metadata": {},
   "outputs": [
    {
     "data": {
      "text/plain": [
       "174"
      ]
     },
     "execution_count": 19,
     "metadata": {},
     "output_type": "execute_result"
    }
   ],
   "source": [
    "sum(X)"
   ]
  },
  {
   "cell_type": "code",
   "execution_count": 21,
   "id": "d63e5604-25fb-4d28-8001-e93e1361ad91",
   "metadata": {},
   "outputs": [
    {
     "data": {
      "text/plain": [
       "29.0"
      ]
     },
     "execution_count": 21,
     "metadata": {},
     "output_type": "execute_result"
    }
   ],
   "source": [
    "sum(X)/len(X)"
   ]
  },
  {
   "cell_type": "code",
   "execution_count": 24,
   "id": "c6401e1f-c6a3-46a7-9c3f-49c4fd001cf1",
   "metadata": {},
   "outputs": [
    {
     "name": "stdout",
     "output_type": "stream",
     "text": [
      "[2, 4, 6, 8, 10]\n",
      "[1, 3, 5, 7, 9]\n"
     ]
    }
   ],
   "source": [
    "#Exercise - to split the list into 2 (Direct input list1)\n",
    "list1=list(range(1,11))\n",
    "odd=[]\n",
    "even=[]\n",
    "for i in list1:\n",
    "    if i%2==0:\n",
    "        even.append(i)\n",
    "        i+=1\n",
    "    else:\n",
    "        odd.append(i)\n",
    "        i+=1\n",
    "print(even)\n",
    "print(odd)\n",
    "    \n",
    "    "
   ]
  },
  {
   "cell_type": "code",
   "execution_count": 25,
   "id": "18ace4a5-b103-43f9-bf8b-7c4ba294bf67",
   "metadata": {},
   "outputs": [
    {
     "name": "stdout",
     "output_type": "stream",
     "text": [
      "[1, 3, 5, 7, 9]\n"
     ]
    }
   ],
   "source": [
    "#Exercise - Above exercise in different method\n",
    "list1=list(range(1,11))\n",
    "odd=list1[::2]\n",
    "print(odd)"
   ]
  },
  {
   "cell_type": "code",
   "execution_count": 26,
   "id": "db55e20e-f518-4555-8da8-bc4b4530358d",
   "metadata": {},
   "outputs": [
    {
     "name": "stdout",
     "output_type": "stream",
     "text": [
      "[2, 4, 6, 8, 10]\n"
     ]
    }
   ],
   "source": [
    "list1=list(range(1,11))\n",
    "even=list1[1::2]\n",
    "print(even)"
   ]
  },
  {
   "cell_type": "code",
   "execution_count": null,
   "id": "1324bcfa-02bd-4e28-b599-f94b1ba8b94b",
   "metadata": {},
   "outputs": [],
   "source": []
  }
 ],
 "metadata": {
  "kernelspec": {
   "display_name": "Python 3 (ipykernel)",
   "language": "python",
   "name": "python3"
  },
  "language_info": {
   "codemirror_mode": {
    "name": "ipython",
    "version": 3
   },
   "file_extension": ".py",
   "mimetype": "text/x-python",
   "name": "python",
   "nbconvert_exporter": "python",
   "pygments_lexer": "ipython3",
   "version": "3.11.7"
  }
 },
 "nbformat": 4,
 "nbformat_minor": 5
}
