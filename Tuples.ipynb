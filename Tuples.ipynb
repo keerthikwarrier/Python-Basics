{
 "cells": [
  {
   "cell_type": "code",
   "execution_count": 5,
   "id": "eb450fe7-0f3f-434e-9193-9d9c0722b446",
   "metadata": {},
   "outputs": [
    {
     "name": "stdout",
     "output_type": "stream",
     "text": [
      "()\n"
     ]
    }
   ],
   "source": [
    "X=()\n",
    "print(X)"
   ]
  },
  {
   "cell_type": "code",
   "execution_count": 6,
   "id": "f0609e18-065f-4b72-ba66-dd5a0f276916",
   "metadata": {},
   "outputs": [
    {
     "name": "stdout",
     "output_type": "stream",
     "text": [
      "(1, 'Hey', 10.5, 'A', 10)\n"
     ]
    }
   ],
   "source": [
    "X=(1,'Hey',10.5,'A',10)\n",
    "print(X)"
   ]
  },
  {
   "cell_type": "code",
   "execution_count": 7,
   "id": "730ae8b0-ff23-45e8-821a-880aa9247049",
   "metadata": {},
   "outputs": [
    {
     "name": "stdout",
     "output_type": "stream",
     "text": [
      "<class 'tuple'>\n"
     ]
    }
   ],
   "source": [
    "print(type(X))"
   ]
  },
  {
   "cell_type": "code",
   "execution_count": 8,
   "id": "10d984e7-a86b-4927-994b-b0e78b579434",
   "metadata": {},
   "outputs": [],
   "source": [
    "city='pune',"
   ]
  },
  {
   "cell_type": "code",
   "execution_count": 9,
   "id": "34dc9df5-fbfb-48e8-a4cc-34ac78c6af60",
   "metadata": {},
   "outputs": [
    {
     "data": {
      "text/plain": [
       "tuple"
      ]
     },
     "execution_count": 9,
     "metadata": {},
     "output_type": "execute_result"
    }
   ],
   "source": [
    "type(city)"
   ]
  },
  {
   "cell_type": "code",
   "execution_count": 10,
   "id": "db1406e1-f7d3-4ab5-ba45-fdfa459be62e",
   "metadata": {},
   "outputs": [
    {
     "name": "stdout",
     "output_type": "stream",
     "text": [
      "('pune', 'bangalore', 'lucknow')\n"
     ]
    }
   ],
   "source": [
    "city='pune','bangalore','lucknow'\n",
    "print(city)"
   ]
  },
  {
   "cell_type": "code",
   "execution_count": 11,
   "id": "e8676bf3-d919-44db-a50e-9bb21d404f6f",
   "metadata": {},
   "outputs": [
    {
     "ename": "TypeError",
     "evalue": "'tuple' object does not support item assignment",
     "output_type": "error",
     "traceback": [
      "\u001b[1;31m---------------------------------------------------------------------------\u001b[0m",
      "\u001b[1;31mTypeError\u001b[0m                                 Traceback (most recent call last)",
      "Cell \u001b[1;32mIn[11], line 1\u001b[0m\n\u001b[1;32m----> 1\u001b[0m city[\u001b[38;5;241m2\u001b[39m]\u001b[38;5;241m=\u001b[39m\u001b[38;5;124m\"\u001b[39m\u001b[38;5;124mDelhi\u001b[39m\u001b[38;5;124m\"\u001b[39m\n\u001b[0;32m      2\u001b[0m \u001b[38;5;28mprint\u001b[39m(city)\n",
      "\u001b[1;31mTypeError\u001b[0m: 'tuple' object does not support item assignment"
     ]
    }
   ],
   "source": [
    "city[2]=\"Delhi\"\n",
    "print(city)"
   ]
  },
  {
   "cell_type": "code",
   "execution_count": 13,
   "id": "d04961a4-e10c-4889-9699-ad59ea876f31",
   "metadata": {},
   "outputs": [
    {
     "name": "stdout",
     "output_type": "stream",
     "text": [
      "[1, 2, 3, 4, 5, 6]\n"
     ]
    }
   ],
   "source": [
    "#Difference between list and tuple\n",
    "list1=[1,2,3,4,5]\n",
    "tuple1=(1,2,3,4,5)\n",
    "list1.append(6)\n",
    "#tuple1.append(6) # Shows error\n",
    "print(list1)"
   ]
  },
  {
   "cell_type": "code",
   "execution_count": 16,
   "id": "94143389-6910-4a89-be1f-bed298d0c1ff",
   "metadata": {},
   "outputs": [
    {
     "name": "stdout",
     "output_type": "stream",
     "text": [
      "[1, 2, 3, 10, 5]\n"
     ]
    }
   ],
   "source": [
    "#Difference between list and tuple\n",
    "list1=[1,2,3,4,5]\n",
    "tuple1=(1,2,3,4,5)\n",
    "list1[3]=10\n",
    "tuple1[3]=10 #shows error\n",
    "print(list1)"
   ]
  },
  {
   "cell_type": "code",
   "execution_count": 17,
   "id": "bb8149f3-8506-4e3a-9cfd-dc2ee0ec1f85",
   "metadata": {},
   "outputs": [
    {
     "name": "stdout",
     "output_type": "stream",
     "text": [
      "(1, 'Hey', 10.5, 'A', 10)\n"
     ]
    }
   ],
   "source": [
    "X=(1,'Hey',10.5,'A',10)\n",
    "print(X)"
   ]
  },
  {
   "cell_type": "code",
   "execution_count": 18,
   "id": "b0ca19c6-04b8-4ccf-b0d3-c56f396cb3e1",
   "metadata": {},
   "outputs": [
    {
     "data": {
      "text/plain": [
       "10.5"
      ]
     },
     "execution_count": 18,
     "metadata": {},
     "output_type": "execute_result"
    }
   ],
   "source": [
    "X[2]"
   ]
  },
  {
   "cell_type": "code",
   "execution_count": 19,
   "id": "fcfb9af5-158f-4c0f-80b3-019477cbc7b8",
   "metadata": {},
   "outputs": [
    {
     "data": {
      "text/plain": [
       "10"
      ]
     },
     "execution_count": 19,
     "metadata": {},
     "output_type": "execute_result"
    }
   ],
   "source": [
    "X[-1]"
   ]
  },
  {
   "cell_type": "code",
   "execution_count": 22,
   "id": "4cd39b43-d029-4c50-81f6-56cf1b3c0fcb",
   "metadata": {},
   "outputs": [
    {
     "name": "stdout",
     "output_type": "stream",
     "text": [
      "('pune', 'bangalore', 'lucknow')\n"
     ]
    }
   ],
   "source": [
    "city='pune','bangalore','lucknow'\n",
    "print(city)"
   ]
  },
  {
   "cell_type": "code",
   "execution_count": 14,
   "id": "e4c04d76-ac85-42f7-98b7-9bd1ee461d14",
   "metadata": {},
   "outputs": [
    {
     "name": "stdout",
     "output_type": "stream",
     "text": [
      "(1, 2, 3, 4)\n"
     ]
    }
   ],
   "source": [
    "num=(1,2,3,4)\n",
    "print(num)"
   ]
  },
  {
   "cell_type": "code",
   "execution_count": 24,
   "id": "b54dcd6a-85bf-47b8-b87b-282c0e28d1f5",
   "metadata": {},
   "outputs": [
    {
     "data": {
      "text/plain": [
       "('pune', 'bangalore', 'lucknow', 1, 2, 3, 4)"
      ]
     },
     "execution_count": 24,
     "metadata": {},
     "output_type": "execute_result"
    }
   ],
   "source": [
    "city+num"
   ]
  },
  {
   "cell_type": "code",
   "execution_count": 25,
   "id": "b8bee39b-8411-4ad9-b3d1-aa9a3e9e4b5c",
   "metadata": {},
   "outputs": [
    {
     "name": "stdout",
     "output_type": "stream",
     "text": [
      "(('pune', 'bangalore', 'lucknow'), (1, 2, 3, 4))\n"
     ]
    }
   ],
   "source": [
    "#Nested tuples\n",
    "nested=(city,num)\n",
    "print(nested)"
   ]
  },
  {
   "cell_type": "code",
   "execution_count": 28,
   "id": "f134f8fb-8253-42c7-b59d-467a18aa78dc",
   "metadata": {},
   "outputs": [
    {
     "name": "stdout",
     "output_type": "stream",
     "text": [
      "('Python', 'Python', 'Python', 'Python', 'Python')\n"
     ]
    }
   ],
   "source": [
    "rep=('Python',) * 5\n",
    "print(rep)"
   ]
  },
  {
   "cell_type": "code",
   "execution_count": 29,
   "id": "b686abdb-cfbd-4be8-8a9e-aa582d6855da",
   "metadata": {},
   "outputs": [
    {
     "name": "stdout",
     "output_type": "stream",
     "text": [
      "(1, 2, 3, 4)\n"
     ]
    }
   ],
   "source": [
    "#Slicing\n",
    "print(num)"
   ]
  },
  {
   "cell_type": "code",
   "execution_count": 30,
   "id": "d29264de-2be6-40c3-a834-d6276cd4b44e",
   "metadata": {},
   "outputs": [
    {
     "data": {
      "text/plain": [
       "(1, 2)"
      ]
     },
     "execution_count": 30,
     "metadata": {},
     "output_type": "execute_result"
    }
   ],
   "source": [
    "num[:2]"
   ]
  },
  {
   "cell_type": "code",
   "execution_count": 31,
   "id": "31ad25b6-3d26-49ae-8e75-c18361e955a4",
   "metadata": {},
   "outputs": [
    {
     "data": {
      "text/plain": [
       "(4, 3, 2, 1)"
      ]
     },
     "execution_count": 31,
     "metadata": {},
     "output_type": "execute_result"
    }
   ],
   "source": [
    "num[::-1]"
   ]
  },
  {
   "cell_type": "code",
   "execution_count": 1,
   "id": "cf3180be-7feb-4eaa-9182-c61194b6120c",
   "metadata": {},
   "outputs": [
    {
     "data": {
      "text/plain": [
       "('S', 'i', 'm', 'p', 'l', 'i', 'l', 'e', 'a', 'r', 'n')"
      ]
     },
     "execution_count": 1,
     "metadata": {},
     "output_type": "execute_result"
    }
   ],
   "source": [
    "#Unpacking\n",
    "tuple(\"Simplilearn\")"
   ]
  },
  {
   "cell_type": "code",
   "execution_count": 3,
   "id": "5b477a5f-1c52-452e-a4ab-705105efaf4c",
   "metadata": {},
   "outputs": [
    {
     "name": "stdout",
     "output_type": "stream",
     "text": [
      "(1, 2, 3, 4)\n"
     ]
    }
   ],
   "source": [
    "num=(1,2,3,4)\n",
    "print(num)"
   ]
  },
  {
   "cell_type": "code",
   "execution_count": 16,
   "id": "f6ec965f-2d69-4623-b9f4-acc6c5d1dc7d",
   "metadata": {},
   "outputs": [
    {
     "name": "stdout",
     "output_type": "stream",
     "text": [
      "1 2 3 4\n"
     ]
    }
   ],
   "source": [
    "a,b,c,d=num\n",
    "print(a,b,c,d)"
   ]
  },
  {
   "cell_type": "code",
   "execution_count": 19,
   "id": "18c7d1bd-d5f4-4987-9c5f-16647a331ef4",
   "metadata": {},
   "outputs": [
    {
     "name": "stdout",
     "output_type": "stream",
     "text": [
      "1 [2, 3] 4\n"
     ]
    }
   ],
   "source": [
    "a,*b,c=num  # * indicates b is a list\n",
    "print(a,b,c)"
   ]
  },
  {
   "cell_type": "code",
   "execution_count": 26,
   "id": "b2a84168-5402-4f1f-9222-757600a4e623",
   "metadata": {},
   "outputs": [
    {
     "ename": "NameError",
     "evalue": "name 'tuple' is not defined",
     "output_type": "error",
     "traceback": [
      "\u001b[1;31m---------------------------------------------------------------------------\u001b[0m",
      "\u001b[1;31mNameError\u001b[0m                                 Traceback (most recent call last)",
      "Cell \u001b[1;32mIn[26], line 3\u001b[0m\n\u001b[0;32m      1\u001b[0m \u001b[38;5;66;03m#Delete tuple\u001b[39;00m\n\u001b[0;32m      2\u001b[0m tuple3\u001b[38;5;241m=\u001b[39m(\u001b[38;5;241m1\u001b[39m,\u001b[38;5;241m2\u001b[39m,\u001b[38;5;241m3\u001b[39m,\u001b[38;5;241m4\u001b[39m)\n\u001b[1;32m----> 3\u001b[0m \u001b[38;5;28;01mdel\u001b[39;00m \u001b[38;5;28mtuple\u001b[39m\n\u001b[0;32m      4\u001b[0m \u001b[38;5;28mprint\u001b[39m(tuple3)\n",
      "\u001b[1;31mNameError\u001b[0m: name 'tuple' is not defined"
     ]
    }
   ],
   "source": [
    "#Delete tuple\n",
    "tuple3=(1,2,3,4)\n",
    "del tuple\n",
    "print(tuple3)"
   ]
  },
  {
   "cell_type": "code",
   "execution_count": 29,
   "id": "60a32a67-6f88-4fb4-8fc1-919c61fff00b",
   "metadata": {},
   "outputs": [
    {
     "data": {
      "text/plain": [
       "3"
      ]
     },
     "execution_count": 29,
     "metadata": {},
     "output_type": "execute_result"
    }
   ],
   "source": [
    "#Built-in functions\n",
    "num1=(1,1,1,2,3,4,5,6,7,8,9)\n",
    "num1.count(1)"
   ]
  },
  {
   "cell_type": "code",
   "execution_count": 30,
   "id": "32e70f1d-4969-40a3-92ad-907b1d068481",
   "metadata": {},
   "outputs": [
    {
     "data": {
      "text/plain": [
       "47"
      ]
     },
     "execution_count": 30,
     "metadata": {},
     "output_type": "execute_result"
    }
   ],
   "source": [
    "sum(num1)"
   ]
  },
  {
   "cell_type": "code",
   "execution_count": 31,
   "id": "6e0817c7-3488-4f51-a886-bc72fe93f5bf",
   "metadata": {},
   "outputs": [
    {
     "data": {
      "text/plain": [
       "11"
      ]
     },
     "execution_count": 31,
     "metadata": {},
     "output_type": "execute_result"
    }
   ],
   "source": [
    "len(num1)"
   ]
  },
  {
   "cell_type": "code",
   "execution_count": 32,
   "id": "849a542a-f1d9-4368-92dd-709040a153c4",
   "metadata": {},
   "outputs": [
    {
     "data": {
      "text/plain": [
       "9"
      ]
     },
     "execution_count": 32,
     "metadata": {},
     "output_type": "execute_result"
    }
   ],
   "source": [
    "max(num1)"
   ]
  },
  {
   "cell_type": "code",
   "execution_count": 33,
   "id": "a1cf6958-f373-4391-8d9a-83ce48a0ad87",
   "metadata": {},
   "outputs": [
    {
     "data": {
      "text/plain": [
       "1"
      ]
     },
     "execution_count": 33,
     "metadata": {},
     "output_type": "execute_result"
    }
   ],
   "source": [
    "min(num1)"
   ]
  },
  {
   "cell_type": "code",
   "execution_count": 35,
   "id": "01344fb2-1698-4088-a117-c9e077cf8ac5",
   "metadata": {},
   "outputs": [
    {
     "name": "stdout",
     "output_type": "stream",
     "text": [
      "<class 'list'>\n"
     ]
    }
   ],
   "source": [
    "#convert list to tuple\n",
    "list1=[1,2,3,4]\n",
    "print(type(list1))"
   ]
  },
  {
   "cell_type": "code",
   "execution_count": 37,
   "id": "b065a92e-a627-4239-bd2b-cf744b596ee7",
   "metadata": {},
   "outputs": [
    {
     "name": "stdout",
     "output_type": "stream",
     "text": [
      "<class 'tuple'>\n"
     ]
    }
   ],
   "source": [
    "list_to_tuple=tuple(list1)\n",
    "print(type(list_to_tuple))"
   ]
  },
  {
   "cell_type": "code",
   "execution_count": 38,
   "id": "63a35f13-7682-407b-8540-1ab41451a581",
   "metadata": {},
   "outputs": [
    {
     "name": "stdout",
     "output_type": "stream",
     "text": [
      "(1, 2, 3, 4)\n"
     ]
    }
   ],
   "source": [
    "print(list_to_tuple)"
   ]
  },
  {
   "cell_type": "code",
   "execution_count": 40,
   "id": "cad9056b-2bb4-4d43-9a3d-e5dd16998486",
   "metadata": {},
   "outputs": [
    {
     "name": "stdout",
     "output_type": "stream",
     "text": [
      "[(1, 2, 3), (3, 4, 5)]\n"
     ]
    }
   ],
   "source": [
    "#Nested tuples in lists\n",
    "list_tuple=[(1,2,3),(3,4,5)]\n",
    "print(list_tuple)"
   ]
  },
  {
   "cell_type": "code",
   "execution_count": 41,
   "id": "6bf68a99-8c85-4a01-8da1-04e92863bc7f",
   "metadata": {},
   "outputs": [
    {
     "name": "stdout",
     "output_type": "stream",
     "text": [
      "([1, 2, 3], [4, 5, 6])\n"
     ]
    }
   ],
   "source": [
    "#Nested lists in tuple\n",
    "tuple_list=([1,2,3],[4,5,6])\n",
    "print(tuple_list)"
   ]
  },
  {
   "cell_type": "code",
   "execution_count": 45,
   "id": "0b86ec9f-9d8a-46cb-ae68-39d89ada8c49",
   "metadata": {},
   "outputs": [
    {
     "name": "stdout",
     "output_type": "stream",
     "text": [
      "(0, 1, 2, 3, 4, 5, 6, 7, 8, 9)\n"
     ]
    }
   ],
   "source": [
    "#Exercise\n",
    "tuple_1=(0,1,2,3,4,5,6,7,8,9)\n",
    "print(tuple_1)"
   ]
  },
  {
   "cell_type": "code",
   "execution_count": 51,
   "id": "0825c000-a863-42b2-a898-6242188aa710",
   "metadata": {},
   "outputs": [
    {
     "name": "stdout",
     "output_type": "stream",
     "text": [
      "(0, 1, 2, 3, 4, 5, 6, 7, 8, 9, 10)\n"
     ]
    }
   ],
   "source": [
    "tuple_2=tuple_1+ (10,)\n",
    "print(tuple_2)"
   ]
  },
  {
   "cell_type": "code",
   "execution_count": 54,
   "id": "6e6aff22-203f-4d34-8714-61cfd896e199",
   "metadata": {},
   "outputs": [
    {
     "name": "stdout",
     "output_type": "stream",
     "text": [
      "(9, 8, 7, 6, 5, 4, 3, 2, 1, 0)\n"
     ]
    }
   ],
   "source": [
    "tuple_rev=tuple_1[::-1]\n",
    "print(tuple_rev)"
   ]
  },
  {
   "cell_type": "code",
   "execution_count": 55,
   "id": "3cd9a827-e0b6-49bf-a863-3601d0d2a813",
   "metadata": {},
   "outputs": [
    {
     "name": "stdout",
     "output_type": "stream",
     "text": [
      "(0, 1, 2, 3, 4, 5, 6, 7, 8, 9, 10, 9, 8, 7, 6, 5, 4, 3, 2, 1, 0)\n"
     ]
    }
   ],
   "source": [
    "print(tuple_2+tuple_rev)"
   ]
  },
  {
   "cell_type": "code",
   "execution_count": null,
   "id": "6c32e84d-4268-4a7e-82a6-db383c1ff41d",
   "metadata": {},
   "outputs": [],
   "source": []
  },
  {
   "cell_type": "code",
   "execution_count": null,
   "id": "f8bc2d8d-e763-4c30-96c6-b283bdaf2c2e",
   "metadata": {},
   "outputs": [],
   "source": []
  }
 ],
 "metadata": {
  "kernelspec": {
   "display_name": "Python 3 (ipykernel)",
   "language": "python",
   "name": "python3"
  },
  "language_info": {
   "codemirror_mode": {
    "name": "ipython",
    "version": 3
   },
   "file_extension": ".py",
   "mimetype": "text/x-python",
   "name": "python",
   "nbconvert_exporter": "python",
   "pygments_lexer": "ipython3",
   "version": "3.11.7"
  }
 },
 "nbformat": 4,
 "nbformat_minor": 5
}
