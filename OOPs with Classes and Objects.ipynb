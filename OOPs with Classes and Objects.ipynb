{
 "cells": [
  {
   "cell_type": "code",
   "execution_count": 6,
   "id": "773df77e-3519-46cf-98ed-c6ce045cd368",
   "metadata": {},
   "outputs": [
    {
     "name": "stdout",
     "output_type": "stream",
     "text": [
      "The speed is  145\n",
      "The speed is  165\n"
     ]
    }
   ],
   "source": [
    "#OOPs concepts\n",
    "#Encapsulation - where data and methods are bundled together into a single package.\n",
    "class Car:\n",
    "    def __init__(self,year,speed):\n",
    "        self.year=year\n",
    "        self.speed=speed\n",
    "\n",
    "    def setspeed(self,speed):\n",
    "        self.speed=speed\n",
    "\n",
    "    def getspeed(self):\n",
    "        print(\"The speed is \", self.speed)\n",
    "\n",
    "BMW=Car(2013,155)\n",
    "FORD=Car(2022,100)\n",
    "\n",
    "BMW.setspeed(145)\n",
    "BMW.getspeed()\n",
    "\n",
    "FORD.setspeed(165)\n",
    "FORD.getspeed()\n",
    "        "
   ]
  },
  {
   "cell_type": "code",
   "execution_count": 7,
   "id": "d1fbdcf0-f1c6-4fb3-b954-d02dfa571b60",
   "metadata": {},
   "outputs": [
    {
     "name": "stdout",
     "output_type": "stream",
     "text": [
      "The speed is  150\n",
      "Trunk is opened\n"
     ]
    },
    {
     "ename": "AttributeError",
     "evalue": "'Car' object has no attribute 'OpenTrunk'",
     "output_type": "error",
     "traceback": [
      "\u001b[1;31m---------------------------------------------------------------------------\u001b[0m",
      "\u001b[1;31mAttributeError\u001b[0m                            Traceback (most recent call last)",
      "Cell \u001b[1;32mIn[7], line 16\u001b[0m\n\u001b[0;32m     14\u001b[0m Honda\u001b[38;5;241m.\u001b[39mgetspeed()\n\u001b[0;32m     15\u001b[0m Honda\u001b[38;5;241m.\u001b[39mOpenTrunk()\n\u001b[1;32m---> 16\u001b[0m BMW\u001b[38;5;241m.\u001b[39mOpenTrunk()\n",
      "\u001b[1;31mAttributeError\u001b[0m: 'Car' object has no attribute 'OpenTrunk'"
     ]
    }
   ],
   "source": [
    "#Inheritance - It is when a new class uses the features (data) of another class.\n",
    "class Sedan(Car):  #Sedan is a child class which inherits parent class Car\n",
    "    def accelerate(self):\n",
    "        print(\"144\")\n",
    "\n",
    "    def OpenTrunk(self):\n",
    "        print(\"Trunk is opened\")\n",
    "\n",
    "class SUV(Car):\n",
    "    def accelerate(self):\n",
    "        print(\"134\")\n",
    "\n",
    "Honda = Sedan(2018,150)\n",
    "Honda.getspeed()\n",
    "Honda.OpenTrunk()\n",
    "BMW.OpenTrunk()\n",
    "        "
   ]
  },
  {
   "cell_type": "code",
   "execution_count": 8,
   "id": "129db95a-39bc-4916-a39d-1c01fdf6e916",
   "metadata": {},
   "outputs": [
    {
     "name": "stdout",
     "output_type": "stream",
     "text": [
      "Honda Amaze : 135\n",
      "Swift Dzire : 123\n"
     ]
    }
   ],
   "source": [
    "#Polymorphism – It is the feature of using the same function in multiple ways.\n",
    "class Car:\n",
    "    def __init__(self,name):\n",
    "        self.name=name\n",
    "\n",
    "class Sedan(Car):\n",
    "    def accelerate(self):\n",
    "        print(\"135\")\n",
    "\n",
    "class SUV(Car):\n",
    "    def accelerate(self):\n",
    "        print(\"123\")\n",
    "\n",
    "objList=[Sedan(\"Honda Amaze\"), SUV(\"Swift Dzire\")]\n",
    "for obj in objList:\n",
    "    print(obj.name+\" : \", end=\"\")\n",
    "    obj.accelerate()"
   ]
  },
  {
   "cell_type": "code",
   "execution_count": 3,
   "id": "c472ee44-a964-45d5-9e8d-c26d3ee9081e",
   "metadata": {},
   "outputs": [
    {
     "name": "stdout",
     "output_type": "stream",
     "text": [
      "Keerthi\n",
      "Female\n",
      "29\n",
      "Keerthi Female 29\n",
      "Hi, I'm  Keerthi\n",
      "I'm eligible to vote\n"
     ]
    }
   ],
   "source": [
    "#Define Classes and Objects\n",
    "class Person:\n",
    "    #Constructor to initialize attributes\n",
    "    def __init__(self, n, g, a):\n",
    "        self.name = n\n",
    "        self.gender = g\n",
    "        self.age = a\n",
    "\n",
    "    # Method to display person details\n",
    "    def display_info(self):\n",
    "        print(f\"{self.name} {self.gender} {self.age}\")\n",
    "\n",
    "    # Method to talk\n",
    "    def talk(self):\n",
    "        print(\"Hi, I'm \", self.name) \n",
    "\n",
    "    # Method to vote\n",
    "    def vote(self):\n",
    "        if self.age<18:\n",
    "            print(\"I'm not eligible to vote\")\n",
    "        else:\n",
    "            print(\"I'm eligible to vote\")\n",
    "      \n",
    "\n",
    "# Creating an object of the Car class\n",
    "person1= Person(\"Keerthi\", \"Female\", 29)\n",
    "\n",
    "\n",
    "# Accessing attributes\n",
    "print(person1.name)  # Output: Keerthi\n",
    "print(person1.gender)  # Output: Female\n",
    "print(person1.age)  # Output: 22\n",
    "\n",
    "# Calling methods\n",
    "person1.display_info()  # Output: Keerthi Female 22\n",
    "\n",
    "# Modifying attributes\n",
    "person1.talk()\n",
    "person1.vote()  # Output: Keerthi\n",
    "                        #   I'm eligible to vote"
   ]
  },
  {
   "cell_type": "code",
   "execution_count": 5,
   "id": "c559824f-dd90-407a-b865-fac96b2bb65f",
   "metadata": {},
   "outputs": [
    {
     "name": "stdout",
     "output_type": "stream",
     "text": [
      "Kirthi\n",
      "male\n",
      "17\n",
      "Kirthi male 17\n",
      "Hi, I'm  Kirthi\n",
      "I'm not eligible to vote\n"
     ]
    }
   ],
   "source": [
    "#Created 2nd Object with same Person Class \n",
    "person2= Person(\"Kirthi\", \"male\", 17)\n",
    "\n",
    "# Accessing attributes\n",
    "print(person2.name)  # Output: Kirthi\n",
    "print(person2.gender)  # Output: male\n",
    "print(person2.age)  # Output: 17\n",
    "\n",
    "# Calling methods\n",
    "person2.display_info()  # Output: Kirthi male 17\n",
    "\n",
    "# Modifying attributes\n",
    "person2.talk()\n",
    "person2.vote()  # Output: Kirthi\n",
    "                        #  I'm not eligible to vote\n"
   ]
  },
  {
   "cell_type": "code",
   "execution_count": null,
   "id": "c088e0df-d4a4-4a1f-a4e1-4601fcae4ac8",
   "metadata": {},
   "outputs": [],
   "source": []
  }
 ],
 "metadata": {
  "kernelspec": {
   "display_name": "Python 3 (ipykernel)",
   "language": "python",
   "name": "python3"
  },
  "language_info": {
   "codemirror_mode": {
    "name": "ipython",
    "version": 3
   },
   "file_extension": ".py",
   "mimetype": "text/x-python",
   "name": "python",
   "nbconvert_exporter": "python",
   "pygments_lexer": "ipython3",
   "version": "3.11.7"
  }
 },
 "nbformat": 4,
 "nbformat_minor": 5
}
