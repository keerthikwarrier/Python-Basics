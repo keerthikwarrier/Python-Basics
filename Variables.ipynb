{
 "cells": [
  {
   "cell_type": "code",
   "execution_count": 3,
   "id": "f8454da1-8a44-4132-a194-370f72f209fc",
   "metadata": {},
   "outputs": [],
   "source": [
    "x=100"
   ]
  },
  {
   "cell_type": "code",
   "execution_count": 4,
   "id": "570b88cf-9e54-4dcc-92bf-df111a99b42c",
   "metadata": {},
   "outputs": [
    {
     "data": {
      "text/plain": [
       "int"
      ]
     },
     "execution_count": 4,
     "metadata": {},
     "output_type": "execute_result"
    }
   ],
   "source": [
    "type(x)"
   ]
  },
  {
   "cell_type": "code",
   "execution_count": 7,
   "id": "3392e9d9-71f7-4eb0-b34a-325ad1e4fca6",
   "metadata": {},
   "outputs": [
    {
     "data": {
      "text/plain": [
       "int"
      ]
     },
     "execution_count": 7,
     "metadata": {},
     "output_type": "execute_result"
    }
   ],
   "source": [
    "x=34*76\n",
    "type(x)\n"
   ]
  },
  {
   "cell_type": "code",
   "execution_count": 8,
   "id": "af3ae262-33a8-43dc-87ed-7fc12716c80b",
   "metadata": {},
   "outputs": [
    {
     "name": "stdout",
     "output_type": "stream",
     "text": [
      "2584\n"
     ]
    }
   ],
   "source": [
    "print(x)"
   ]
  },
  {
   "cell_type": "code",
   "execution_count": 9,
   "id": "6125f219-a906-41ca-b23b-d2597166a049",
   "metadata": {},
   "outputs": [
    {
     "data": {
      "text/plain": [
       "float"
      ]
     },
     "execution_count": 9,
     "metadata": {},
     "output_type": "execute_result"
    }
   ],
   "source": [
    "x=87.6+8.7\n",
    "type(x)"
   ]
  },
  {
   "cell_type": "code",
   "execution_count": 10,
   "id": "0bf3c743-8253-41f2-8e93-7f82ef0fbbe7",
   "metadata": {},
   "outputs": [
    {
     "name": "stdout",
     "output_type": "stream",
     "text": [
      "96.3\n"
     ]
    }
   ],
   "source": [
    "print(x)"
   ]
  },
  {
   "cell_type": "code",
   "execution_count": 11,
   "id": "27f30555-0132-42c5-8af3-7684d30c241c",
   "metadata": {},
   "outputs": [
    {
     "data": {
      "text/plain": [
       "str"
      ]
     },
     "execution_count": 11,
     "metadata": {},
     "output_type": "execute_result"
    }
   ],
   "source": [
    "x=\"Keerthi\"\n",
    "type(x)"
   ]
  },
  {
   "cell_type": "code",
   "execution_count": 12,
   "id": "45f01282-9e2b-4466-91f6-bd74a120edbf",
   "metadata": {},
   "outputs": [
    {
     "data": {
      "text/plain": [
       "list"
      ]
     },
     "execution_count": 12,
     "metadata": {},
     "output_type": "execute_result"
    }
   ],
   "source": [
    "x=[13,23,45,78]\n",
    "type(x)"
   ]
  },
  {
   "cell_type": "code",
   "execution_count": 13,
   "id": "688ca30d-9866-4051-82f7-b870f1c71e37",
   "metadata": {},
   "outputs": [
    {
     "name": "stdout",
     "output_type": "stream",
     "text": [
      "[13, 23, 45, 78]\n"
     ]
    }
   ],
   "source": [
    "print(x)"
   ]
  },
  {
   "cell_type": "code",
   "execution_count": 14,
   "id": "49f75586-4187-4baa-a125-8ad14b731461",
   "metadata": {},
   "outputs": [
    {
     "ename": "TypeError",
     "evalue": "'int' object is not subscriptable",
     "output_type": "error",
     "traceback": [
      "\u001b[1;31m---------------------------------------------------------------------------\u001b[0m",
      "\u001b[1;31mTypeError\u001b[0m                                 Traceback (most recent call last)",
      "Cell \u001b[1;32mIn[14], line 1\u001b[0m\n\u001b[1;32m----> 1\u001b[0m X[\u001b[38;5;241m1\u001b[39m]\n",
      "\u001b[1;31mTypeError\u001b[0m: 'int' object is not subscriptable"
     ]
    }
   ],
   "source": [
    "X[1]"
   ]
  },
  {
   "cell_type": "code",
   "execution_count": 15,
   "id": "c46c7319-4d81-4f03-9f2d-8a97fe76654c",
   "metadata": {},
   "outputs": [
    {
     "name": "stdout",
     "output_type": "stream",
     "text": [
      "23\n"
     ]
    }
   ],
   "source": [
    "print(x[1])"
   ]
  },
  {
   "cell_type": "code",
   "execution_count": 16,
   "id": "5f7763a9-103a-43a2-8179-4ca13f0be22b",
   "metadata": {},
   "outputs": [
    {
     "name": "stdout",
     "output_type": "stream",
     "text": [
      "[13, 23, 50, 78]\n"
     ]
    }
   ],
   "source": [
    "x[2]=50\n",
    "print(x)"
   ]
  },
  {
   "cell_type": "code",
   "execution_count": 17,
   "id": "6ade8dd4-3a80-4016-8558-c0aa90f3f362",
   "metadata": {},
   "outputs": [
    {
     "data": {
      "text/plain": [
       "tuple"
      ]
     },
     "execution_count": 17,
     "metadata": {},
     "output_type": "execute_result"
    }
   ],
   "source": [
    "x=(3,5,6)\n",
    "type(x)"
   ]
  },
  {
   "cell_type": "code",
   "execution_count": 18,
   "id": "45160b65-39eb-4923-8e2c-1c4f529e4842",
   "metadata": {},
   "outputs": [
    {
     "name": "stdout",
     "output_type": "stream",
     "text": [
      "(3, 5, 6)\n"
     ]
    }
   ],
   "source": [
    "print(x)"
   ]
  },
  {
   "cell_type": "code",
   "execution_count": 19,
   "id": "3079afa2-7790-4d89-9c24-a49953d2836d",
   "metadata": {},
   "outputs": [
    {
     "ename": "TypeError",
     "evalue": "'tuple' object does not support item assignment",
     "output_type": "error",
     "traceback": [
      "\u001b[1;31m---------------------------------------------------------------------------\u001b[0m",
      "\u001b[1;31mTypeError\u001b[0m                                 Traceback (most recent call last)",
      "Cell \u001b[1;32mIn[19], line 1\u001b[0m\n\u001b[1;32m----> 1\u001b[0m x[\u001b[38;5;241m1\u001b[39m]\u001b[38;5;241m=\u001b[39m\u001b[38;5;241m9\u001b[39m\n\u001b[0;32m      2\u001b[0m \u001b[38;5;28mprint\u001b[39m(x[\u001b[38;5;241m1\u001b[39m])\n",
      "\u001b[1;31mTypeError\u001b[0m: 'tuple' object does not support item assignment"
     ]
    }
   ],
   "source": [
    "x[1]=9\n",
    "print(x[1])"
   ]
  },
  {
   "cell_type": "code",
   "execution_count": 28,
   "id": "253a0f2b-33ba-4a02-bedc-31fa97266e60",
   "metadata": {},
   "outputs": [],
   "source": [
    "x=open('C:\\\\Users\\\\Keert\\\\Webscraping.ipynb','r')"
   ]
  },
  {
   "cell_type": "code",
   "execution_count": 29,
   "id": "81c7d28a-8b63-4119-84dd-16c7013949d3",
   "metadata": {},
   "outputs": [
    {
     "data": {
      "text/plain": [
       "_io.TextIOWrapper"
      ]
     },
     "execution_count": 29,
     "metadata": {},
     "output_type": "execute_result"
    }
   ],
   "source": [
    "type(x)"
   ]
  },
  {
   "cell_type": "raw",
   "id": "0f0002b6-0baf-4be8-a14c-34ff5d2e7904",
   "metadata": {},
   "source": [
    "Rules for naming variables"
   ]
  },
  {
   "cell_type": "code",
   "execution_count": 30,
   "id": "a864b0cf-5e97-480e-a291-1b0da99e3d18",
   "metadata": {},
   "outputs": [],
   "source": [
    "abc=45"
   ]
  },
  {
   "cell_type": "code",
   "execution_count": 31,
   "id": "4bbc7285-f096-4749-9e88-861c9a3b52dd",
   "metadata": {},
   "outputs": [],
   "source": [
    "_abc=12"
   ]
  },
  {
   "cell_type": "code",
   "execution_count": 32,
   "id": "080eb72d-f94d-4e79-9495-7fb3b85890b3",
   "metadata": {},
   "outputs": [
    {
     "ename": "SyntaxError",
     "evalue": "invalid syntax. Maybe you meant '==' or ':=' instead of '='? (595173119.py, line 1)",
     "output_type": "error",
     "traceback": [
      "\u001b[1;36m  Cell \u001b[1;32mIn[32], line 1\u001b[1;36m\u001b[0m\n\u001b[1;33m    @abc=34\u001b[0m\n\u001b[1;37m     ^\u001b[0m\n\u001b[1;31mSyntaxError\u001b[0m\u001b[1;31m:\u001b[0m invalid syntax. Maybe you meant '==' or ':=' instead of '='?\n"
     ]
    }
   ],
   "source": [
    "@abc=34"
   ]
  },
  {
   "cell_type": "code",
   "execution_count": 33,
   "id": "8589c1e9-d7b4-4cd5-84eb-01c308326f44",
   "metadata": {},
   "outputs": [],
   "source": [
    "abc100=100"
   ]
  },
  {
   "cell_type": "code",
   "execution_count": 34,
   "id": "c75ee996-3ce6-405a-b8f3-b8edc9e6ca88",
   "metadata": {},
   "outputs": [
    {
     "ename": "TypeError",
     "evalue": "unsupported operand type(s) for @=: 'int' and 'int'",
     "output_type": "error",
     "traceback": [
      "\u001b[1;31m---------------------------------------------------------------------------\u001b[0m",
      "\u001b[1;31mTypeError\u001b[0m                                 Traceback (most recent call last)",
      "Cell \u001b[1;32mIn[34], line 1\u001b[0m\n\u001b[1;32m----> 1\u001b[0m abc\u001b[38;5;241m@\u001b[39m\u001b[38;5;241m=\u001b[39m\u001b[38;5;241m100\u001b[39m\n",
      "\u001b[1;31mTypeError\u001b[0m: unsupported operand type(s) for @=: 'int' and 'int'"
     ]
    }
   ],
   "source": [
    "abc@=100"
   ]
  },
  {
   "cell_type": "markdown",
   "id": "3b764bda-4650-438f-9636-2ee731d5c99e",
   "metadata": {},
   "source": [
    "Arithematic operations"
   ]
  },
  {
   "cell_type": "code",
   "execution_count": 1,
   "id": "f735ff41-6d60-4b3e-8c9f-57eef3432c2a",
   "metadata": {},
   "outputs": [
    {
     "ename": "NameError",
     "evalue": "name 'x' is not defined",
     "output_type": "error",
     "traceback": [
      "\u001b[1;31m---------------------------------------------------------------------------\u001b[0m",
      "\u001b[1;31mNameError\u001b[0m                                 Traceback (most recent call last)",
      "Cell \u001b[1;32mIn[1], line 1\u001b[0m\n\u001b[1;32m----> 1\u001b[0m \u001b[38;5;28mprint\u001b[39m(x)\n",
      "\u001b[1;31mNameError\u001b[0m: name 'x' is not defined"
     ]
    }
   ],
   "source": [
    "print(x)"
   ]
  },
  {
   "cell_type": "code",
   "execution_count": 2,
   "id": "0d1cb137-313a-416a-9d13-4b349394d1d5",
   "metadata": {},
   "outputs": [],
   "source": [
    "a=12+2"
   ]
  },
  {
   "cell_type": "code",
   "execution_count": 3,
   "id": "314bd05c-db3e-493a-8d6e-30c027ceab75",
   "metadata": {},
   "outputs": [
    {
     "name": "stdout",
     "output_type": "stream",
     "text": [
      "14\n"
     ]
    }
   ],
   "source": [
    "print(a)"
   ]
  },
  {
   "cell_type": "code",
   "execution_count": 4,
   "id": "5ce58526-8521-4abe-9887-d15e2db29b34",
   "metadata": {},
   "outputs": [],
   "source": [
    "(x,y)=10,20"
   ]
  },
  {
   "cell_type": "code",
   "execution_count": 5,
   "id": "a409ec46-e213-4df8-af9e-b14452dd676b",
   "metadata": {},
   "outputs": [
    {
     "name": "stdout",
     "output_type": "stream",
     "text": [
      "30\n"
     ]
    }
   ],
   "source": [
    "a=x+y\n",
    "print(a)"
   ]
  },
  {
   "cell_type": "code",
   "execution_count": 6,
   "id": "a31ee29d-ced7-4498-8e2b-6f0e56114e61",
   "metadata": {},
   "outputs": [
    {
     "name": "stdout",
     "output_type": "stream",
     "text": [
      "200\n"
     ]
    }
   ],
   "source": [
    "a=x*y\n",
    "print(a)"
   ]
  },
  {
   "cell_type": "code",
   "execution_count": 7,
   "id": "698b80e6-c19f-475e-a082-a6d1ceab8a97",
   "metadata": {},
   "outputs": [
    {
     "name": "stdout",
     "output_type": "stream",
     "text": [
      "0.5\n"
     ]
    }
   ],
   "source": [
    "a=x/y\n",
    "print(a)"
   ]
  },
  {
   "cell_type": "code",
   "execution_count": 8,
   "id": "6e8e8b7f-6d95-4a8d-8d26-fa4213b4db5c",
   "metadata": {},
   "outputs": [
    {
     "name": "stdout",
     "output_type": "stream",
     "text": [
      "-10\n"
     ]
    }
   ],
   "source": [
    "a=x-y\n",
    "print(a)"
   ]
  },
  {
   "cell_type": "code",
   "execution_count": 11,
   "id": "ba7e5057-d9f0-4fa7-bf99-808eab1565f5",
   "metadata": {},
   "outputs": [
    {
     "name": "stdout",
     "output_type": "stream",
     "text": [
      "10\n"
     ]
    }
   ],
   "source": [
    "a=x%y\n",
    "print(a)"
   ]
  },
  {
   "cell_type": "code",
   "execution_count": 12,
   "id": "7e062a8e-a7e2-43e9-93f8-178c500aa537",
   "metadata": {},
   "outputs": [],
   "source": [
    "x='Keerthi'"
   ]
  },
  {
   "cell_type": "code",
   "execution_count": 13,
   "id": "ee12f8c1-2eb6-408e-baf2-161b9d42d1a5",
   "metadata": {},
   "outputs": [
    {
     "name": "stdout",
     "output_type": "stream",
     "text": [
      "K\n"
     ]
    }
   ],
   "source": [
    "print(x[0])"
   ]
  },
  {
   "cell_type": "code",
   "execution_count": 14,
   "id": "aa95775b-0c34-458a-9b1c-0ca560990802",
   "metadata": {},
   "outputs": [
    {
     "name": "stdout",
     "output_type": "stream",
     "text": [
      "Kee\n"
     ]
    }
   ],
   "source": [
    "print(x[0:3])"
   ]
  },
  {
   "cell_type": "code",
   "execution_count": 15,
   "id": "66f24618-6809-4acd-88f8-407eaf5c8fb0",
   "metadata": {},
   "outputs": [
    {
     "data": {
      "text/plain": [
       "7"
      ]
     },
     "execution_count": 15,
     "metadata": {},
     "output_type": "execute_result"
    }
   ],
   "source": [
    "len(x)"
   ]
  },
  {
   "cell_type": "code",
   "execution_count": 16,
   "id": "4f52b3ed-a4a1-4d2f-9cc8-a60ce1995fd8",
   "metadata": {},
   "outputs": [],
   "source": [
    "var1=\"It's Sunday\""
   ]
  },
  {
   "cell_type": "code",
   "execution_count": 17,
   "id": "e9f5f255-af4e-40a3-b1e2-34d7282bd650",
   "metadata": {},
   "outputs": [],
   "source": [
    "var2=\"Have a Great Day\""
   ]
  },
  {
   "cell_type": "code",
   "execution_count": 22,
   "id": "2010b267-512f-4a9d-8910-b6727033d5e6",
   "metadata": {},
   "outputs": [],
   "source": [
    "var3= var1[:5]+var2[5:13]+var1[5:]"
   ]
  },
  {
   "cell_type": "code",
   "execution_count": 23,
   "id": "9da5dd24-8c84-4cfa-a423-8f8e594168fc",
   "metadata": {},
   "outputs": [
    {
     "name": "stdout",
     "output_type": "stream",
     "text": [
      "It's a Great Sunday\n"
     ]
    }
   ],
   "source": [
    "print(var3)"
   ]
  },
  {
   "cell_type": "code",
   "execution_count": 25,
   "id": "f28e4808-8a5f-4208-9c24-c18e47cafbd5",
   "metadata": {},
   "outputs": [],
   "source": [
    "(a,b)=100,200"
   ]
  },
  {
   "cell_type": "code",
   "execution_count": 26,
   "id": "a94a7891-6855-423f-b87a-92e464c393a8",
   "metadata": {},
   "outputs": [
    {
     "name": "stdout",
     "output_type": "stream",
     "text": [
      "200 100\n"
     ]
    }
   ],
   "source": [
    "temp=a\n",
    "a=b\n",
    "b=temp\n",
    "print(a,b)"
   ]
  },
  {
   "cell_type": "code",
   "execution_count": null,
   "id": "2dbfb275-7278-42ce-b2f2-b4266bdfc93c",
   "metadata": {},
   "outputs": [],
   "source": []
  }
 ],
 "metadata": {
  "kernelspec": {
   "display_name": "Python 3 (ipykernel)",
   "language": "python",
   "name": "python3"
  },
  "language_info": {
   "codemirror_mode": {
    "name": "ipython",
    "version": 3
   },
   "file_extension": ".py",
   "mimetype": "text/x-python",
   "name": "python",
   "nbconvert_exporter": "python",
   "pygments_lexer": "ipython3",
   "version": "3.11.7"
  }
 },
 "nbformat": 4,
 "nbformat_minor": 5
}
